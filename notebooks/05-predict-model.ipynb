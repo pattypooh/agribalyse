{
 "cells": [
  {
   "cell_type": "code",
   "execution_count": 4,
   "id": "0ce620b3-3ec4-414b-8c70-3da036cb0c05",
   "metadata": {},
   "outputs": [],
   "source": [
    "import pandas as pd\n",
    "import numpy as np\n",
    "from sklearn.pipeline import Pipeline\n",
    "from sklearn.model_selection import train_test_split\n",
    "from sklearn.impute import  SimpleImputer\n",
    "from sklearn.preprocessing import OneHotEncoder, StandardScaler\n",
    "from sklearn.compose import ColumnTransformer\n",
    "#from sklearn.model_selection import cross_val_score, GridSearchCV\n",
    "from sklearn.metrics import r2_score\n",
    "from sklearn.linear_model import LinearRegression, Ridge\n",
    "from src.data import preprocessing\n",
    "from sklearn.pipeline import Pipeline\n",
    "from sklearn.ensemble import RandomForestRegressor\n",
    "from sklearn.decomposition import TruncatedSVD\n",
    "import os\n",
    "import joblib"
   ]
  },
  {
   "cell_type": "code",
   "execution_count": 5,
   "id": "36f05690-e67e-44b2-ae08-04f836d78aca",
   "metadata": {},
   "outputs": [],
   "source": [
    "MODELS_FILE_PATH = './../models'\n",
    "INTERIM_FILE_PATH = './../data/interim'\n",
    "INPUT_DATA_FILE_PATH = './../data/processed/'"
   ]
  },
  {
   "cell_type": "code",
   "execution_count": 6,
   "id": "4d462a0b-8f4c-458c-b446-f59a8119bc72",
   "metadata": {},
   "outputs": [],
   "source": [
    "score_predictor = joblib.load(os.path.join(MODELS_FILE_PATH,'score_predictor_v2.joblib'))\n",
    "canonical_df = pd.read_csv(os.path.join(INPUT_DATA_FILE_PATH,'ingredients_data_format.csv'))\n",
    "statistics_df = pd.read_csv(os.path.join(INTERIM_FILE_PATH,'Agribalyse_MinMax ingredient.csv'))"
   ]
  },
  {
   "cell_type": "markdown",
   "id": "b4605e2e-1986-4c2c-9ca3-13c1e490677e",
   "metadata": {},
   "source": [
    "### Ingredients and their min and max EF scores"
   ]
  },
  {
   "cell_type": "code",
   "execution_count": 7,
   "id": "8874b1e2-b5b3-4228-96e3-3634b7644b99",
   "metadata": {},
   "outputs": [
    {
     "name": "stdout",
     "output_type": "stream",
     "text": [
      "(213, 3)\n"
     ]
    },
    {
     "data": {
      "text/html": [
       "<div>\n",
       "<style scoped>\n",
       "    .dataframe tbody tr th:only-of-type {\n",
       "        vertical-align: middle;\n",
       "    }\n",
       "\n",
       "    .dataframe tbody tr th {\n",
       "        vertical-align: top;\n",
       "    }\n",
       "\n",
       "    .dataframe thead th {\n",
       "        text-align: right;\n",
       "    }\n",
       "</style>\n",
       "<table border=\"1\" class=\"dataframe\">\n",
       "  <thead>\n",
       "    <tr style=\"text-align: right;\">\n",
       "      <th></th>\n",
       "      <th>Ingredients</th>\n",
       "      <th>min_EF</th>\n",
       "      <th>max_EF</th>\n",
       "    </tr>\n",
       "  </thead>\n",
       "  <tbody>\n",
       "    <tr>\n",
       "      <th>0</th>\n",
       "      <td>Abats de bœuf</td>\n",
       "      <td>0.365335</td>\n",
       "      <td>1.976721</td>\n",
       "    </tr>\n",
       "    <tr>\n",
       "      <th>1</th>\n",
       "      <td>Abats de porc</td>\n",
       "      <td>0.008707</td>\n",
       "      <td>0.228660</td>\n",
       "    </tr>\n",
       "    <tr>\n",
       "      <th>2</th>\n",
       "      <td>Abats de poulet</td>\n",
       "      <td>0.003403</td>\n",
       "      <td>0.049212</td>\n",
       "    </tr>\n",
       "    <tr>\n",
       "      <th>3</th>\n",
       "      <td>Abats de veau</td>\n",
       "      <td>0.398916</td>\n",
       "      <td>0.398916</td>\n",
       "    </tr>\n",
       "    <tr>\n",
       "      <th>4</th>\n",
       "      <td>Abricot</td>\n",
       "      <td>0.004451</td>\n",
       "      <td>0.046987</td>\n",
       "    </tr>\n",
       "  </tbody>\n",
       "</table>\n",
       "</div>"
      ],
      "text/plain": [
       "       Ingredients    min_EF    max_EF\n",
       "0    Abats de bœuf  0.365335  1.976721\n",
       "1    Abats de porc  0.008707  0.228660\n",
       "2  Abats de poulet  0.003403  0.049212\n",
       "3    Abats de veau  0.398916  0.398916\n",
       "4          Abricot  0.004451  0.046987"
      ]
     },
     "execution_count": 7,
     "metadata": {},
     "output_type": "execute_result"
    }
   ],
   "source": [
    "print(statistics_df.shape)\n",
    "statistics_df.head(5)"
   ]
  },
  {
   "cell_type": "markdown",
   "id": "7011b66b-306b-4df7-b7d4-22094d73f05d",
   "metadata": {},
   "source": [
    "#### The canonical datafram with zeros.  Used as a molde to set the values coming from the user"
   ]
  },
  {
   "cell_type": "code",
   "execution_count": 8,
   "id": "b58fadf0-8274-491e-a8d8-e21398f2255e",
   "metadata": {},
   "outputs": [
    {
     "data": {
      "text/html": [
       "<div>\n",
       "<style scoped>\n",
       "    .dataframe tbody tr th:only-of-type {\n",
       "        vertical-align: middle;\n",
       "    }\n",
       "\n",
       "    .dataframe tbody tr th {\n",
       "        vertical-align: top;\n",
       "    }\n",
       "\n",
       "    .dataframe thead th {\n",
       "        text-align: right;\n",
       "    }\n",
       "</style>\n",
       "<table border=\"1\" class=\"dataframe\">\n",
       "  <thead>\n",
       "    <tr style=\"text-align: right;\">\n",
       "      <th></th>\n",
       "      <th>Abats de bœuf</th>\n",
       "      <th>Abats de porc</th>\n",
       "      <th>Abats de poulet</th>\n",
       "      <th>Abats de veau</th>\n",
       "      <th>Abricot</th>\n",
       "      <th>Ail</th>\n",
       "      <th>Amande</th>\n",
       "      <th>Amidon de maïs</th>\n",
       "      <th>Ananas</th>\n",
       "      <th>Anchois</th>\n",
       "      <th>...</th>\n",
       "      <th>max_EF_Viande de moutton sans os</th>\n",
       "      <th>max_EF_Viande de porc maigre</th>\n",
       "      <th>max_EF_Viande de poulet sans os</th>\n",
       "      <th>max_EF_Viande de veau sans os</th>\n",
       "      <th>max_EF_Vin blanc</th>\n",
       "      <th>max_EF_Vin rouge</th>\n",
       "      <th>max_EF_Yaourt</th>\n",
       "      <th>max_EF_citron</th>\n",
       "      <th>max_EF_Échalote</th>\n",
       "      <th>max_EF_Œuf de poule</th>\n",
       "    </tr>\n",
       "  </thead>\n",
       "  <tbody>\n",
       "    <tr>\n",
       "      <th>0</th>\n",
       "      <td>0.0</td>\n",
       "      <td>0.0</td>\n",
       "      <td>0.0</td>\n",
       "      <td>0.0</td>\n",
       "      <td>0.0</td>\n",
       "      <td>0.0</td>\n",
       "      <td>0.0</td>\n",
       "      <td>0.0</td>\n",
       "      <td>0.0</td>\n",
       "      <td>0.0</td>\n",
       "      <td>...</td>\n",
       "      <td>0.0</td>\n",
       "      <td>0.0</td>\n",
       "      <td>0.0</td>\n",
       "      <td>0.0</td>\n",
       "      <td>0.0</td>\n",
       "      <td>0.0</td>\n",
       "      <td>0.0</td>\n",
       "      <td>0.0</td>\n",
       "      <td>0.0</td>\n",
       "      <td>0.0</td>\n",
       "    </tr>\n",
       "  </tbody>\n",
       "</table>\n",
       "<p>1 rows × 639 columns</p>\n",
       "</div>"
      ],
      "text/plain": [
       "   Abats de bœuf  Abats de porc  Abats de poulet  Abats de veau  Abricot  Ail  \\\n",
       "0            0.0            0.0              0.0            0.0      0.0  0.0   \n",
       "\n",
       "   Amande  Amidon de maïs  Ananas  Anchois  ...  \\\n",
       "0     0.0             0.0     0.0      0.0  ...   \n",
       "\n",
       "   max_EF_Viande de moutton sans os  max_EF_Viande de porc maigre  \\\n",
       "0                               0.0                           0.0   \n",
       "\n",
       "   max_EF_Viande de poulet sans os  max_EF_Viande de veau sans os  \\\n",
       "0                              0.0                            0.0   \n",
       "\n",
       "   max_EF_Vin blanc  max_EF_Vin rouge  max_EF_Yaourt  max_EF_citron  \\\n",
       "0               0.0               0.0            0.0            0.0   \n",
       "\n",
       "   max_EF_Échalote  max_EF_Œuf de poule  \n",
       "0              0.0                  0.0  \n",
       "\n",
       "[1 rows x 639 columns]"
      ]
     },
     "execution_count": 8,
     "metadata": {},
     "output_type": "execute_result"
    }
   ],
   "source": [
    "canonical_df"
   ]
  },
  {
   "cell_type": "markdown",
   "id": "6ccb13fa-9b9b-458a-abf6-34c51068887b",
   "metadata": {},
   "source": [
    "#### /!\\ Ingredients with no statistics (TODO remove them from preprocessing)"
   ]
  },
  {
   "cell_type": "code",
   "execution_count": 9,
   "id": "ab303278-df2f-47e8-a3b4-283bf68c74c7",
   "metadata": {},
   "outputs": [
    {
     "data": {
      "text/html": [
       "<div>\n",
       "<style scoped>\n",
       "    .dataframe tbody tr th:only-of-type {\n",
       "        vertical-align: middle;\n",
       "    }\n",
       "\n",
       "    .dataframe tbody tr th {\n",
       "        vertical-align: top;\n",
       "    }\n",
       "\n",
       "    .dataframe thead th {\n",
       "        text-align: right;\n",
       "    }\n",
       "</style>\n",
       "<table border=\"1\" class=\"dataframe\">\n",
       "  <thead>\n",
       "    <tr style=\"text-align: right;\">\n",
       "      <th></th>\n",
       "      <th>Ingredients</th>\n",
       "      <th>min_EF</th>\n",
       "      <th>max_EF</th>\n",
       "    </tr>\n",
       "  </thead>\n",
       "  <tbody>\n",
       "    <tr>\n",
       "      <th>24</th>\n",
       "      <td>Bouillon</td>\n",
       "      <td>0.0</td>\n",
       "      <td>0.0</td>\n",
       "    </tr>\n",
       "    <tr>\n",
       "      <th>72</th>\n",
       "      <td>Fond de veau pour la sauce et la cuisson</td>\n",
       "      <td>0.0</td>\n",
       "      <td>0.0</td>\n",
       "    </tr>\n",
       "    <tr>\n",
       "      <th>132</th>\n",
       "      <td>Miel</td>\n",
       "      <td>0.0</td>\n",
       "      <td>0.0</td>\n",
       "    </tr>\n",
       "  </tbody>\n",
       "</table>\n",
       "</div>"
      ],
      "text/plain": [
       "                                  Ingredients  min_EF  max_EF\n",
       "24                                   Bouillon     0.0     0.0\n",
       "72   Fond de veau pour la sauce et la cuisson     0.0     0.0\n",
       "132                                      Miel     0.0     0.0"
      ]
     },
     "execution_count": 9,
     "metadata": {},
     "output_type": "execute_result"
    }
   ],
   "source": [
    "statistics_df[(statistics_df['min_EF'] == 0) | (statistics_df['max_EF'] == 0)]"
   ]
  },
  {
   "cell_type": "markdown",
   "id": "e1162fc2-8297-41c5-9008-eb849f0259fd",
   "metadata": {},
   "source": [
    "#### Transposed statistics of ingredients to have them in columns"
   ]
  },
  {
   "cell_type": "code",
   "execution_count": 10,
   "id": "bc59f838-8deb-4032-8a99-48fc5aa0db45",
   "metadata": {},
   "outputs": [],
   "source": [
    "user_input = ['Amande', 'Abats de veau','Abricot']"
   ]
  },
  {
   "cell_type": "code",
   "execution_count": 12,
   "id": "b2328440-8922-4766-9852-44f75c408861",
   "metadata": {},
   "outputs": [],
   "source": [
    "#metric_df.loc[user_input, :]"
   ]
  },
  {
   "cell_type": "raw",
   "id": "37d48fc1-6906-458c-979b-284e8ec168a6",
   "metadata": {},
   "source": [
    "metric_df =  statistics_df.set_index('Ingredients')[[metric]].transpose().reset_index(drop=True)\n",
    "new_col_names = [f'{prefix}{c}' for c in metric_df.columns]\n",
    "metric_df.columns = new_col_names"
   ]
  },
  {
   "cell_type": "code",
   "execution_count": 13,
   "id": "277108fe-6294-4b1f-ad2d-0df6d1ff86dd",
   "metadata": {},
   "outputs": [],
   "source": [
    "def get_transposed(statistics_df, metric, prefix:str):\n",
    "    metric_df =  statistics_df.set_index('Ingredients')[[metric]].transpose().reset_index(drop=True)\n",
    "    new_col_names = [f'{prefix}{c}' for c in metric_df.columns]\n",
    "    metric_df.columns = new_col_names\n",
    "    return metric_df"
   ]
  },
  {
   "cell_type": "code",
   "execution_count": 14,
   "id": "36d563fb-9d43-4a46-9a69-4025152a75c8",
   "metadata": {},
   "outputs": [],
   "source": [
    "def generate_transposed_statistics(df):\n",
    "    #transpose minEF\n",
    "    minEF_df = get_transposed(df, 'min_EF', prefix='min_EF_')\n",
    "    \n",
    "    #transpose maxEF\n",
    "    maxEF_df = get_transposed(df, 'max_EF', 'max_EF_')\n",
    "    \n",
    "    #Concatenate minEF and maxEF\n",
    "    return pd.concat([minEF_df, maxEF_df], axis=1)\n",
    "    "
   ]
  },
  {
   "cell_type": "code",
   "execution_count": 15,
   "id": "a0aee32f-4daf-4f82-ad80-2d001873ed62",
   "metadata": {},
   "outputs": [],
   "source": [
    "def format_ingredients_list(user_input, canonical_df, statistics_df)->pd.DataFrame:\n",
    "    statistics_user_input = generate_transposed_statistics(statistics_df.set_index('Ingredients').loc[user_input,:].reset_index())\n",
    "    canonical_df.loc[:,statistics_user_input.columns] = statistics_user_input\n",
    "    canonical_df.loc[:,user_input] = 1"
   ]
  },
  {
   "cell_type": "code",
   "execution_count": 16,
   "id": "e4348bc5-b5b1-42e6-bb6b-134e05799c79",
   "metadata": {},
   "outputs": [
    {
     "data": {
      "text/html": [
       "<div>\n",
       "<style scoped>\n",
       "    .dataframe tbody tr th:only-of-type {\n",
       "        vertical-align: middle;\n",
       "    }\n",
       "\n",
       "    .dataframe tbody tr th {\n",
       "        vertical-align: top;\n",
       "    }\n",
       "\n",
       "    .dataframe thead th {\n",
       "        text-align: right;\n",
       "    }\n",
       "</style>\n",
       "<table border=\"1\" class=\"dataframe\">\n",
       "  <thead>\n",
       "    <tr style=\"text-align: right;\">\n",
       "      <th></th>\n",
       "      <th>min_EF_Amande</th>\n",
       "      <th>min_EF_Abats de veau</th>\n",
       "      <th>min_EF_Abricot</th>\n",
       "      <th>max_EF_Amande</th>\n",
       "      <th>max_EF_Abats de veau</th>\n",
       "      <th>max_EF_Abricot</th>\n",
       "    </tr>\n",
       "  </thead>\n",
       "  <tbody>\n",
       "    <tr>\n",
       "      <th>0</th>\n",
       "      <td>0.108593</td>\n",
       "      <td>0.398916</td>\n",
       "      <td>0.004451</td>\n",
       "      <td>1.072579</td>\n",
       "      <td>0.398916</td>\n",
       "      <td>0.046987</td>\n",
       "    </tr>\n",
       "  </tbody>\n",
       "</table>\n",
       "</div>"
      ],
      "text/plain": [
       "   min_EF_Amande  min_EF_Abats de veau  min_EF_Abricot  max_EF_Amande  \\\n",
       "0       0.108593              0.398916        0.004451       1.072579   \n",
       "\n",
       "   max_EF_Abats de veau  max_EF_Abricot  \n",
       "0              0.398916        0.046987  "
      ]
     },
     "execution_count": 16,
     "metadata": {},
     "output_type": "execute_result"
    }
   ],
   "source": [
    "stats_user_input = generate_transposed_statistics(statistics_df.set_index('Ingredients').loc[user_input,:].reset_index())\n",
    "stats_user_input"
   ]
  },
  {
   "cell_type": "markdown",
   "id": "14d766c8-1c3f-4d55-a9a6-736d9ec5c193",
   "metadata": {},
   "source": [
    "* In the canonical_df, set values for statistics"
   ]
  },
  {
   "cell_type": "code",
   "execution_count": 17,
   "id": "60ed01e7-ab07-47ed-809a-13d93dd176cf",
   "metadata": {},
   "outputs": [],
   "source": [
    "canonical_df.loc[:,stats_user_input.columns] = stats_user_input"
   ]
  },
  {
   "cell_type": "code",
   "execution_count": 18,
   "id": "930ec560-e159-4253-83a0-1ebf20b666a0",
   "metadata": {},
   "outputs": [
    {
     "name": "stdout",
     "output_type": "stream",
     "text": [
      "min_EF_Abats de veau\n",
      "min_EF_Abricot\n",
      "min_EF_Amande\n",
      "max_EF_Abats de veau\n",
      "max_EF_Abricot\n",
      "max_EF_Amande\n"
     ]
    }
   ],
   "source": [
    "for c in canonical_df.columns:\n",
    "    if sum(canonical_df[c].values)>0:\n",
    "        print(c)"
   ]
  },
  {
   "cell_type": "markdown",
   "id": "4a29f5fe-56a8-4f35-b9fb-0427e188174d",
   "metadata": {},
   "source": [
    "* Set values to 1 where the ingredient is present in user's input"
   ]
  },
  {
   "cell_type": "code",
   "execution_count": 19,
   "id": "ba84a54f-29c1-46a1-aac7-ec4798ee38f7",
   "metadata": {},
   "outputs": [],
   "source": [
    "canonical_df.loc[:,user_input] = 1"
   ]
  },
  {
   "cell_type": "code",
   "execution_count": 20,
   "id": "34157776-9434-485b-9123-4bd7270587df",
   "metadata": {},
   "outputs": [
    {
     "name": "stdout",
     "output_type": "stream",
     "text": [
      "Abats de veau\n",
      "Abricot\n",
      "Amande\n",
      "min_EF_Abats de veau\n",
      "min_EF_Abricot\n",
      "min_EF_Amande\n",
      "max_EF_Abats de veau\n",
      "max_EF_Abricot\n",
      "max_EF_Amande\n"
     ]
    }
   ],
   "source": [
    "for c in canonical_df.columns:\n",
    "    if sum(canonical_df[c].values)>0:\n",
    "        print(c)"
   ]
  },
  {
   "cell_type": "raw",
   "id": "28398acb-6b46-4f4a-9934-206fab2b61aa",
   "metadata": {},
   "source": [
    "def rename_pivoted_columns(pivot_ing_minmax: pd.DataFrame)->pd.DataFrame:\n",
    "    new_minmax_df = pivot_ing_minmax.copy()\n",
    "    new_col_index = [f'{multiindex[0]}_{multiindex[1]}' if multiindex[1]!='' else multiindex[0] for multiindex in pivot_ing_minmax.columns]\n",
    "    new_minmax_df.columns=new_col_index\n",
    "    new_minmax_df = new_minmax_df.fillna(0)\n",
    "    #new_minmax_df = new_minmax_df.drop(columns=drop_cols)\n",
    "    return new_minmax_df"
   ]
  },
  {
   "cell_type": "raw",
   "id": "89b082dd-628c-4d9c-8351-ef351b9fc4d8",
   "metadata": {},
   "source": [
    "def rename_pivot_names(pivot_ing_minmax: pd.DataFrame)->pd.DataFrame:\n",
    "    new_minmax_df = pivot_ing_minmax.copy()\n",
    "    new_col_index = [f'{multiindex[0]}_{multiindex[1]}' if multiindex[1]!='' else multiindex[0] for multiindex in pivot_ing_minmax.columns]\n",
    "    new_minmax_df.columns=new_col_index\n",
    "    new_minmax_df = new_minmax_df.fillna(0)\n",
    "    #new_minmax_df = new_minmax_df.drop(columns=drop_cols)\n",
    "    return new_minmax_df"
   ]
  },
  {
   "cell_type": "code",
   "execution_count": 21,
   "id": "f2b03d6a-c3dd-4b5a-b11a-03d2308b5cbc",
   "metadata": {},
   "outputs": [
    {
     "data": {
      "text/html": [
       "<div>\n",
       "<style scoped>\n",
       "    .dataframe tbody tr th:only-of-type {\n",
       "        vertical-align: middle;\n",
       "    }\n",
       "\n",
       "    .dataframe tbody tr th {\n",
       "        vertical-align: top;\n",
       "    }\n",
       "\n",
       "    .dataframe thead th {\n",
       "        text-align: right;\n",
       "    }\n",
       "</style>\n",
       "<table border=\"1\" class=\"dataframe\">\n",
       "  <thead>\n",
       "    <tr style=\"text-align: right;\">\n",
       "      <th></th>\n",
       "      <th>Abats de bœuf</th>\n",
       "      <th>Abats de porc</th>\n",
       "      <th>Abats de poulet</th>\n",
       "      <th>Abats de veau</th>\n",
       "      <th>Abricot</th>\n",
       "      <th>Ail</th>\n",
       "      <th>Amande</th>\n",
       "      <th>Amidon de maïs</th>\n",
       "      <th>Ananas</th>\n",
       "      <th>Anchois</th>\n",
       "      <th>...</th>\n",
       "      <th>max_EF_Viande de moutton sans os</th>\n",
       "      <th>max_EF_Viande de porc maigre</th>\n",
       "      <th>max_EF_Viande de poulet sans os</th>\n",
       "      <th>max_EF_Viande de veau sans os</th>\n",
       "      <th>max_EF_Vin blanc</th>\n",
       "      <th>max_EF_Vin rouge</th>\n",
       "      <th>max_EF_Yaourt</th>\n",
       "      <th>max_EF_citron</th>\n",
       "      <th>max_EF_Échalote</th>\n",
       "      <th>max_EF_Œuf de poule</th>\n",
       "    </tr>\n",
       "  </thead>\n",
       "  <tbody>\n",
       "    <tr>\n",
       "      <th>0</th>\n",
       "      <td>0.0</td>\n",
       "      <td>0.0</td>\n",
       "      <td>0.0</td>\n",
       "      <td>1.0</td>\n",
       "      <td>1.0</td>\n",
       "      <td>0.0</td>\n",
       "      <td>1.0</td>\n",
       "      <td>0.0</td>\n",
       "      <td>0.0</td>\n",
       "      <td>0.0</td>\n",
       "      <td>...</td>\n",
       "      <td>0.0</td>\n",
       "      <td>0.0</td>\n",
       "      <td>0.0</td>\n",
       "      <td>0.0</td>\n",
       "      <td>0.0</td>\n",
       "      <td>0.0</td>\n",
       "      <td>0.0</td>\n",
       "      <td>0.0</td>\n",
       "      <td>0.0</td>\n",
       "      <td>0.0</td>\n",
       "    </tr>\n",
       "  </tbody>\n",
       "</table>\n",
       "<p>1 rows × 639 columns</p>\n",
       "</div>"
      ],
      "text/plain": [
       "   Abats de bœuf  Abats de porc  Abats de poulet  Abats de veau  Abricot  Ail  \\\n",
       "0            0.0            0.0              0.0            1.0      1.0  0.0   \n",
       "\n",
       "   Amande  Amidon de maïs  Ananas  Anchois  ...  \\\n",
       "0     1.0             0.0     0.0      0.0  ...   \n",
       "\n",
       "   max_EF_Viande de moutton sans os  max_EF_Viande de porc maigre  \\\n",
       "0                               0.0                           0.0   \n",
       "\n",
       "   max_EF_Viande de poulet sans os  max_EF_Viande de veau sans os  \\\n",
       "0                              0.0                            0.0   \n",
       "\n",
       "   max_EF_Vin blanc  max_EF_Vin rouge  max_EF_Yaourt  max_EF_citron  \\\n",
       "0               0.0               0.0            0.0            0.0   \n",
       "\n",
       "   max_EF_Échalote  max_EF_Œuf de poule  \n",
       "0              0.0                  0.0  \n",
       "\n",
       "[1 rows x 639 columns]"
      ]
     },
     "execution_count": 21,
     "metadata": {},
     "output_type": "execute_result"
    }
   ],
   "source": [
    "canonical_df"
   ]
  },
  {
   "cell_type": "code",
   "execution_count": 22,
   "id": "b273ad4d-3611-402a-8b26-aaf044c150ac",
   "metadata": {},
   "outputs": [
    {
     "data": {
      "text/html": [
       "<div>\n",
       "<style scoped>\n",
       "    .dataframe tbody tr th:only-of-type {\n",
       "        vertical-align: middle;\n",
       "    }\n",
       "\n",
       "    .dataframe tbody tr th {\n",
       "        vertical-align: top;\n",
       "    }\n",
       "\n",
       "    .dataframe thead th {\n",
       "        text-align: right;\n",
       "    }\n",
       "</style>\n",
       "<table border=\"1\" class=\"dataframe\">\n",
       "  <thead>\n",
       "    <tr style=\"text-align: right;\">\n",
       "      <th></th>\n",
       "      <th>Abats de bœuf</th>\n",
       "      <th>Abats de porc</th>\n",
       "      <th>Abats de poulet</th>\n",
       "      <th>Abats de veau</th>\n",
       "      <th>Abricot</th>\n",
       "      <th>Ail</th>\n",
       "      <th>Amande</th>\n",
       "      <th>Amidon de maïs</th>\n",
       "      <th>Ananas</th>\n",
       "      <th>Anchois</th>\n",
       "      <th>...</th>\n",
       "      <th>max_EF_Viande de moutton sans os</th>\n",
       "      <th>max_EF_Viande de porc maigre</th>\n",
       "      <th>max_EF_Viande de poulet sans os</th>\n",
       "      <th>max_EF_Viande de veau sans os</th>\n",
       "      <th>max_EF_Vin blanc</th>\n",
       "      <th>max_EF_Vin rouge</th>\n",
       "      <th>max_EF_Yaourt</th>\n",
       "      <th>max_EF_citron</th>\n",
       "      <th>max_EF_Échalote</th>\n",
       "      <th>max_EF_Œuf de poule</th>\n",
       "    </tr>\n",
       "  </thead>\n",
       "  <tbody>\n",
       "    <tr>\n",
       "      <th>0</th>\n",
       "      <td>0.0</td>\n",
       "      <td>0.0</td>\n",
       "      <td>0.0</td>\n",
       "      <td>1.0</td>\n",
       "      <td>1.0</td>\n",
       "      <td>0.0</td>\n",
       "      <td>1.0</td>\n",
       "      <td>0.0</td>\n",
       "      <td>0.0</td>\n",
       "      <td>0.0</td>\n",
       "      <td>...</td>\n",
       "      <td>0.0</td>\n",
       "      <td>0.0</td>\n",
       "      <td>0.0</td>\n",
       "      <td>0.0</td>\n",
       "      <td>0.0</td>\n",
       "      <td>0.0</td>\n",
       "      <td>0.0</td>\n",
       "      <td>0.0</td>\n",
       "      <td>0.0</td>\n",
       "      <td>0.0</td>\n",
       "    </tr>\n",
       "  </tbody>\n",
       "</table>\n",
       "<p>1 rows × 639 columns</p>\n",
       "</div>"
      ],
      "text/plain": [
       "   Abats de bœuf  Abats de porc  Abats de poulet  Abats de veau  Abricot  Ail  \\\n",
       "0            0.0            0.0              0.0            1.0      1.0  0.0   \n",
       "\n",
       "   Amande  Amidon de maïs  Ananas  Anchois  ...  \\\n",
       "0     1.0             0.0     0.0      0.0  ...   \n",
       "\n",
       "   max_EF_Viande de moutton sans os  max_EF_Viande de porc maigre  \\\n",
       "0                               0.0                           0.0   \n",
       "\n",
       "   max_EF_Viande de poulet sans os  max_EF_Viande de veau sans os  \\\n",
       "0                              0.0                            0.0   \n",
       "\n",
       "   max_EF_Vin blanc  max_EF_Vin rouge  max_EF_Yaourt  max_EF_citron  \\\n",
       "0               0.0               0.0            0.0            0.0   \n",
       "\n",
       "   max_EF_Échalote  max_EF_Œuf de poule  \n",
       "0              0.0                  0.0  \n",
       "\n",
       "[1 rows x 639 columns]"
      ]
     },
     "execution_count": 22,
     "metadata": {},
     "output_type": "execute_result"
    }
   ],
   "source": [
    "#format_ingredients_list(user_input, canonical_df, statistics_df)\n",
    "canonical_df"
   ]
  },
  {
   "cell_type": "code",
   "execution_count": 23,
   "id": "4ec07c62-8fc6-4b8c-9c46-d04ba88fbc90",
   "metadata": {},
   "outputs": [
    {
     "ename": "NameError",
     "evalue": "name 'formatted_input' is not defined",
     "output_type": "error",
     "traceback": [
      "\u001b[0;31m---------------------------------------------------------------------------\u001b[0m",
      "\u001b[0;31mNameError\u001b[0m                                 Traceback (most recent call last)",
      "\u001b[0;32m/tmp/ipykernel_15828/1558834930.py\u001b[0m in \u001b[0;36m<module>\u001b[0;34m\u001b[0m\n\u001b[0;32m----> 1\u001b[0;31m \u001b[0mformatted_input\u001b[0m\u001b[0;34m\u001b[0m\u001b[0;34m\u001b[0m\u001b[0m\n\u001b[0m",
      "\u001b[0;31mNameError\u001b[0m: name 'formatted_input' is not defined"
     ]
    }
   ],
   "source": [
    "formatted_input"
   ]
  },
  {
   "cell_type": "code",
   "execution_count": null,
   "id": "cc677f63-f8fa-4b12-b9be-9b35ed8fa2b4",
   "metadata": {},
   "outputs": [],
   "source": [
    "#score_predictor.predict(canonical_df)"
   ]
  },
  {
   "cell_type": "code",
   "execution_count": null,
   "id": "f88419ae-01f2-4cf0-b60f-a95c0ef165c0",
   "metadata": {},
   "outputs": [],
   "source": [
    "score_predictor.predict(canonical_df)"
   ]
  }
 ],
 "metadata": {
  "interpreter": {
   "hash": "5cc47c8831822e32dd5f765150260df6f896d34b43f3e216997ee9b0d9ca468e"
  },
  "kernelspec": {
   "display_name": "kernel-pez-jedha",
   "language": "python",
   "name": "python3"
  },
  "language_info": {
   "codemirror_mode": {
    "name": "ipython",
    "version": 3
   },
   "file_extension": ".py",
   "mimetype": "text/x-python",
   "name": "python",
   "nbconvert_exporter": "python",
   "pygments_lexer": "ipython3",
   "version": "3.7.11"
  }
 },
 "nbformat": 4,
 "nbformat_minor": 5
}

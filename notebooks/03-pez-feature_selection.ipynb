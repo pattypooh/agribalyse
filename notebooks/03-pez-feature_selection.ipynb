{
 "cells": [
  {
   "cell_type": "code",
   "execution_count": null,
   "id": "98118a21-24fb-48c0-9772-2955b1bf260a",
   "metadata": {},
   "outputs": [],
   "source": []
  },
  {
   "cell_type": "code",
   "execution_count": 1,
   "id": "764edae4-84c6-4af4-a0c5-5bdce9cf1ba8",
   "metadata": {},
   "outputs": [],
   "source": [
    "from enum import Enum\n",
    "\n",
    "class Status(Enum):\n",
    "  NOT_SELECTED = 'not selected'\n",
    "  SELECTED = 'selected'\n",
    "  LATER = 'later'\n",
    "  MAYBE = 'maybe'"
   ]
  },
  {
   "cell_type": "code",
   "execution_count": 2,
   "id": "10b4bc53-2484-46e2-aeab-9e11baa44fea",
   "metadata": {},
   "outputs": [],
   "source": [
    "selection_dict = {\n",
    "'Code_AGB':Status.SELECTED,\n",
    "'Code_CIQUAL':Status.SELECTED,\n",
    "'Groupe_aliment':Status.SELECTED,\n",
    "'Sous-groupe_aliment':Status.SELECTED,\n",
    "'Produit_Francais':Status.SELECTED,\n",
    "'LCI_Name':Status.NOT_SELECTED,\n",
    "'Saisonnalite':Status.MAYBE,\n",
    "'Transport_avion':Status.MAYBE,\n",
    "'Livraison':Status.SELECTED,\n",
    "'Materiau_emballage':Status.SELECTED,\n",
    "'Preparation':Status.SELECTED, # clean this feature, there are duplicates\n",
    "'Note_qualite_donnee':Status.LATER,\n",
    "'Score_unique':Status.SELECTED,\n",
    "'Changement_climatique':Status.SELECTED,\n",
    "'Appauvrissement_couche_ozone':Status.SELECTED,\n",
    "'Rayonnements_ionisants':Status.SELECTED,\n",
    "'Formation_photochimique_ozone':Status.SELECTED,\n",
    "'Particules':Status.SELECTED,\n",
    "'Acidification_terrestre_eaux_douces':Status.SELECTED,\n",
    "'Eutrophisation_terreste':Status.SELECTED,\n",
    "'Eutrophisation_eaux_douces':Status.SELECTED,\n",
    "'Eutrophisation_marine':Status.SELECTED,\n",
    "'Utilisation':Status.SELECTED,\n",
    "'Ecotoxicite_pour_ecosystemes_aquatiques_eau_douce':Status.SELECTED,\n",
    "'Epuisement_ressources':Status.SELECTED,\n",
    "'Epuisement_ressources_energetiques':Status.SELECTED,\n",
    "'Epuisement_ressources_mineraux':Status.SELECTED,\n",
    "}"
   ]
  }
 ],
 "metadata": {
  "interpreter": {
   "hash": "5cc47c8831822e32dd5f765150260df6f896d34b43f3e216997ee9b0d9ca468e"
  },
  "kernelspec": {
   "display_name": "kernel-pez-jedha",
   "language": "python",
   "name": "python3"
  },
  "language_info": {
   "codemirror_mode": {
    "name": "ipython",
    "version": 3
   },
   "file_extension": ".py",
   "mimetype": "text/x-python",
   "name": "python",
   "nbconvert_exporter": "python",
   "pygments_lexer": "ipython3",
   "version": "3.7.11"
  }
 },
 "nbformat": 4,
 "nbformat_minor": 5
}

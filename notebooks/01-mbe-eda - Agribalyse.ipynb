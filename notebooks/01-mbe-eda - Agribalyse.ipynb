{
 "cells": [
  {
   "cell_type": "code",
   "execution_count": 1,
   "metadata": {},
   "outputs": [],
   "source": [
    "import pandas as pd\n",
    "import matplotlib.pyplot as plt\n",
    "import seaborn as sns"
   ]
  },
  {
   "cell_type": "code",
   "execution_count": 13,
   "metadata": {},
   "outputs": [],
   "source": [
    "from IPython.display import Markdown, display\n",
    "def printmd(string):\n",
    "    display(Markdown(string))"
   ]
  },
  {
   "cell_type": "code",
   "execution_count": 2,
   "metadata": {},
   "outputs": [
    {
     "data": {
      "text/html": [
       "<div>\n",
       "<style scoped>\n",
       "    .dataframe tbody tr th:only-of-type {\n",
       "        vertical-align: middle;\n",
       "    }\n",
       "\n",
       "    .dataframe tbody tr th {\n",
       "        vertical-align: top;\n",
       "    }\n",
       "\n",
       "    .dataframe thead th {\n",
       "        text-align: right;\n",
       "    }\n",
       "</style>\n",
       "<table border=\"1\" class=\"dataframe\">\n",
       "  <thead>\n",
       "    <tr style=\"text-align: right;\">\n",
       "      <th></th>\n",
       "      <th>Ciqual AGB</th>\n",
       "      <th>Ciqual code</th>\n",
       "      <th>Nom Français</th>\n",
       "      <th>Groupe d'aliment</th>\n",
       "      <th>Sous-groupe d'aliment</th>\n",
       "      <th>LCI Name</th>\n",
       "      <th>Ingredients</th>\n",
       "      <th>Score unique EF (mPt/kg de produit)</th>\n",
       "      <th>Changement climatique (kg CO2 eq/kg de produit)</th>\n",
       "      <th>Appauvrissement de la couche d'ozone (E-06 kg CVC11 eq/kg de produit)</th>\n",
       "      <th>...</th>\n",
       "      <th>Particules (E-06 disease inc./kg de produit)</th>\n",
       "      <th>Acidification terrestre et eaux douces (mol H+ eq/kg de produit)</th>\n",
       "      <th>Eutrophisation terreste (mol N eq/kg de produit)</th>\n",
       "      <th>Eutrophisation eaux douces (E-03 kg P eq/kg de produit)</th>\n",
       "      <th>Eutrophisation marine (E-03 kg N eq/kg de produit)</th>\n",
       "      <th>Utilisation du sol (Pt/kg de produit)</th>\n",
       "      <th>Écotoxicité pour écosystèmes aquatiques d'eau douce (CTUe/kg de produit)</th>\n",
       "      <th>Épuisement des ressources eau (m3 depriv./kg de produit)</th>\n",
       "      <th>Épuisement des ressources énergétiques (MJ/kg de produit)</th>\n",
       "      <th>Épuisement des ressources minéraux (E-06 kg Sb eq/kg de produit)</th>\n",
       "    </tr>\n",
       "  </thead>\n",
       "  <tbody>\n",
       "    <tr>\n",
       "      <th>0</th>\n",
       "      <td>11168</td>\n",
       "      <td>11168</td>\n",
       "      <td>Sauce aïoli, préemballée</td>\n",
       "      <td>aides culinaires et ingrédients divers</td>\n",
       "      <td>sauces</td>\n",
       "      <td>Aioli sauce (garlic and olive oil mayonnaise),...</td>\n",
       "      <td>Jaune d'œuf</td>\n",
       "      <td>0.039743</td>\n",
       "      <td>0.164754</td>\n",
       "      <td>0.014089</td>\n",
       "      <td>...</td>\n",
       "      <td>0.046616</td>\n",
       "      <td>0.006761</td>\n",
       "      <td>0.029441</td>\n",
       "      <td>0.052027</td>\n",
       "      <td>1.32923</td>\n",
       "      <td>16.984964</td>\n",
       "      <td>7.404112</td>\n",
       "      <td>0.337769</td>\n",
       "      <td>1.475548</td>\n",
       "      <td>0.251356</td>\n",
       "    </tr>\n",
       "  </tbody>\n",
       "</table>\n",
       "<p>1 rows × 22 columns</p>\n",
       "</div>"
      ],
      "text/plain": [
       "   Ciqual AGB  Ciqual code              Nom Français  \\\n",
       "0       11168        11168  Sauce aïoli, préemballée   \n",
       "\n",
       "                         Groupe d'aliment Sous-groupe d'aliment  \\\n",
       "0  aides culinaires et ingrédients divers                sauces   \n",
       "\n",
       "                                            LCI Name  Ingredients  \\\n",
       "0  Aioli sauce (garlic and olive oil mayonnaise),...  Jaune d'œuf   \n",
       "\n",
       "   Score unique EF (mPt/kg de produit)  \\\n",
       "0                             0.039743   \n",
       "\n",
       "   Changement climatique (kg CO2 eq/kg de produit)  \\\n",
       "0                                         0.164754   \n",
       "\n",
       "   Appauvrissement de la couche d'ozone (E-06 kg CVC11 eq/kg de produit)  ...  \\\n",
       "0                                           0.014089                      ...   \n",
       "\n",
       "   Particules (E-06 disease inc./kg de produit)  \\\n",
       "0                                      0.046616   \n",
       "\n",
       "   Acidification terrestre et eaux douces (mol H+ eq/kg de produit)  \\\n",
       "0                                           0.006761                  \n",
       "\n",
       "   Eutrophisation terreste (mol N eq/kg de produit)  \\\n",
       "0                                          0.029441   \n",
       "\n",
       "   Eutrophisation eaux douces (E-03 kg P eq/kg de produit)  \\\n",
       "0                                           0.052027         \n",
       "\n",
       "   Eutrophisation marine (E-03 kg N eq/kg de produit)  \\\n",
       "0                                            1.32923    \n",
       "\n",
       "   Utilisation du sol (Pt/kg de produit)  \\\n",
       "0                              16.984964   \n",
       "\n",
       "   Écotoxicité pour écosystèmes aquatiques d'eau douce (CTUe/kg de produit)  \\\n",
       "0                                           7.404112                          \n",
       "\n",
       "   Épuisement des ressources eau (m3 depriv./kg de produit)  \\\n",
       "0                                           0.337769          \n",
       "\n",
       "   Épuisement des ressources énergétiques (MJ/kg de produit)  \\\n",
       "0                                           1.475548           \n",
       "\n",
       "   Épuisement des ressources minéraux (E-06 kg Sb eq/kg de produit)  \n",
       "0                                           0.251356                 \n",
       "\n",
       "[1 rows x 22 columns]"
      ]
     },
     "execution_count": 2,
     "metadata": {},
     "output_type": "execute_result"
    }
   ],
   "source": [
    "#df = pd.read_csv(\"src/Agribalyse_Detail ingredient.csv\")\n",
    "df = pd.read_csv(\"~/Desktop/DataSciences/8 - PROJET/agribalyse/data/raw/Agribalyse_Detail ingredient.csv\")\n",
    "df.head(1)"
   ]
  },
  {
   "cell_type": "code",
   "execution_count": null,
   "metadata": {},
   "outputs": [],
   "source": []
  },
  {
   "cell_type": "code",
   "execution_count": null,
   "metadata": {},
   "outputs": [],
   "source": [
    "# 9 indicateurs retenus car satisfaisant ( niveai 1 et 2 )"
   ]
  },
  {
   "cell_type": "code",
   "execution_count": 3,
   "metadata": {},
   "outputs": [],
   "source": [
    "cols = [\"Ciqual AGB\",\"Ciqual code\",\"Nom Français\",\"Groupe d'aliment\",\"Sous-groupe d'aliment\",\"LCI Name\",\"Ingredients\",\n",
    "        \"Score unique EF (mPt/kg de produit)\",\n",
    "        \"Changement climatique (kg CO2 eq/kg de produit)\",\"Appauvrissement de la couche d'ozone (E-06 kg CVC11 eq/kg de produit)\",\n",
    "       \"Particules (E-06 disease inc./kg de produit)\",\"Acidification terrestre et eaux douces (mol H+ eq/kg de produit)\",\n",
    "       \"Eutrophisation terreste (mol N eq/kg de produit)\",\"Eutrophisation eaux douces (E-03 kg P eq/kg de produit)\",\n",
    "       \"Eutrophisation marine (E-03 kg N eq/kg de produit)\",\"Rayonnements ionisants (kBq U-235 eq/kg de produit)\",\n",
    "       \"Formation photochimique d'ozone (E-03 kg NMVOC eq/kg de produit)\"]\n",
    "\n",
    "\n",
    "df = df[cols]\n"
   ]
  },
  {
   "cell_type": "code",
   "execution_count": 4,
   "metadata": {},
   "outputs": [],
   "source": [
    "# rename colonnes \n",
    "\n",
    "df.columns = [\"Ciqual_AGB\",\"Ciqual_code\",\"Nom_Français\",\"Groupe_aliment\",\"Sous_Grp_aliment\",\"LCI_Name\",\"Ingredients\",\n",
    "              \"Score_EF\",\n",
    "              \"Changement_climatique\",\"Appauvrissement_couche_ozone\",\"exposition_Particules_fines\",\"Acidification_terre_eaux\",\n",
    "             \"Eutrophisation_terreste\",\"Eutrophisation_eaux_douces\",\"Eutrophisation_marine\",\"Rayonnements_ionisants\",\n",
    "             \"Formation_photochimique_ozone \"]"
   ]
  },
  {
   "cell_type": "code",
   "execution_count": 5,
   "metadata": {},
   "outputs": [
    {
     "data": {
      "text/html": [
       "<div>\n",
       "<style scoped>\n",
       "    .dataframe tbody tr th:only-of-type {\n",
       "        vertical-align: middle;\n",
       "    }\n",
       "\n",
       "    .dataframe tbody tr th {\n",
       "        vertical-align: top;\n",
       "    }\n",
       "\n",
       "    .dataframe thead th {\n",
       "        text-align: right;\n",
       "    }\n",
       "</style>\n",
       "<table border=\"1\" class=\"dataframe\">\n",
       "  <thead>\n",
       "    <tr style=\"text-align: right;\">\n",
       "      <th></th>\n",
       "      <th>Ciqual_AGB</th>\n",
       "      <th>Ciqual_code</th>\n",
       "      <th>Nom_Français</th>\n",
       "      <th>Groupe_aliment</th>\n",
       "      <th>Sous_Grp_aliment</th>\n",
       "      <th>LCI_Name</th>\n",
       "      <th>Ingredients</th>\n",
       "      <th>Score_EF</th>\n",
       "      <th>Changement_climatique</th>\n",
       "      <th>Appauvrissement_couche_ozone</th>\n",
       "      <th>exposition_Particules_fines</th>\n",
       "      <th>Acidification_terre_eaux</th>\n",
       "      <th>Eutrophisation_terreste</th>\n",
       "      <th>Eutrophisation_eaux_douces</th>\n",
       "      <th>Eutrophisation_marine</th>\n",
       "      <th>Rayonnements_ionisants</th>\n",
       "      <th>Formation_photochimique_ozone</th>\n",
       "    </tr>\n",
       "  </thead>\n",
       "  <tbody>\n",
       "    <tr>\n",
       "      <th>0</th>\n",
       "      <td>11168</td>\n",
       "      <td>11168</td>\n",
       "      <td>Sauce aïoli, préemballée</td>\n",
       "      <td>aides culinaires et ingrédients divers</td>\n",
       "      <td>sauces</td>\n",
       "      <td>Aioli sauce (garlic and olive oil mayonnaise),...</td>\n",
       "      <td>Jaune d'œuf</td>\n",
       "      <td>0.039743</td>\n",
       "      <td>0.164754</td>\n",
       "      <td>0.014089</td>\n",
       "      <td>0.046616</td>\n",
       "      <td>0.006761</td>\n",
       "      <td>0.029441</td>\n",
       "      <td>0.052027</td>\n",
       "      <td>1.329230</td>\n",
       "      <td>0.027466</td>\n",
       "      <td>0.631131</td>\n",
       "    </tr>\n",
       "    <tr>\n",
       "      <th>1</th>\n",
       "      <td>11168</td>\n",
       "      <td>11168</td>\n",
       "      <td>Sauce aïoli, préemballée</td>\n",
       "      <td>aides culinaires et ingrédients divers</td>\n",
       "      <td>sauces</td>\n",
       "      <td>Aioli sauce (garlic and olive oil mayonnaise),...</td>\n",
       "      <td>Ail</td>\n",
       "      <td>0.004417</td>\n",
       "      <td>0.011444</td>\n",
       "      <td>0.002512</td>\n",
       "      <td>0.000781</td>\n",
       "      <td>0.000105</td>\n",
       "      <td>0.000328</td>\n",
       "      <td>0.004760</td>\n",
       "      <td>0.189983</td>\n",
       "      <td>0.004964</td>\n",
       "      <td>0.057538</td>\n",
       "    </tr>\n",
       "  </tbody>\n",
       "</table>\n",
       "</div>"
      ],
      "text/plain": [
       "   Ciqual_AGB  Ciqual_code              Nom_Français  \\\n",
       "0       11168        11168  Sauce aïoli, préemballée   \n",
       "1       11168        11168  Sauce aïoli, préemballée   \n",
       "\n",
       "                           Groupe_aliment Sous_Grp_aliment  \\\n",
       "0  aides culinaires et ingrédients divers           sauces   \n",
       "1  aides culinaires et ingrédients divers           sauces   \n",
       "\n",
       "                                            LCI_Name  Ingredients  Score_EF  \\\n",
       "0  Aioli sauce (garlic and olive oil mayonnaise),...  Jaune d'œuf  0.039743   \n",
       "1  Aioli sauce (garlic and olive oil mayonnaise),...          Ail  0.004417   \n",
       "\n",
       "   Changement_climatique  Appauvrissement_couche_ozone  \\\n",
       "0               0.164754                      0.014089   \n",
       "1               0.011444                      0.002512   \n",
       "\n",
       "   exposition_Particules_fines  Acidification_terre_eaux  \\\n",
       "0                     0.046616                  0.006761   \n",
       "1                     0.000781                  0.000105   \n",
       "\n",
       "   Eutrophisation_terreste  Eutrophisation_eaux_douces  Eutrophisation_marine  \\\n",
       "0                 0.029441                    0.052027               1.329230   \n",
       "1                 0.000328                    0.004760               0.189983   \n",
       "\n",
       "   Rayonnements_ionisants  Formation_photochimique_ozone   \n",
       "0                0.027466                        0.631131  \n",
       "1                0.004964                        0.057538  "
      ]
     },
     "execution_count": 5,
     "metadata": {},
     "output_type": "execute_result"
    }
   ],
   "source": [
    "df.head(2)"
   ]
  },
  {
   "cell_type": "code",
   "execution_count": 23,
   "metadata": {},
   "outputs": [
    {
     "data": {
      "text/markdown": [
       "**10 de groupe d'aliments**"
      ],
      "text/plain": [
       "<IPython.core.display.Markdown object>"
      ]
     },
     "metadata": {},
     "output_type": "display_data"
    },
    {
     "data": {
      "text/html": [
       "<div>\n",
       "<style scoped>\n",
       "    .dataframe tbody tr th:only-of-type {\n",
       "        vertical-align: middle;\n",
       "    }\n",
       "\n",
       "    .dataframe tbody tr th {\n",
       "        vertical-align: top;\n",
       "    }\n",
       "\n",
       "    .dataframe thead th {\n",
       "        text-align: right;\n",
       "    }\n",
       "</style>\n",
       "<table border=\"1\" class=\"dataframe\">\n",
       "  <thead>\n",
       "    <tr style=\"text-align: right;\">\n",
       "      <th></th>\n",
       "      <th>Groupe_aliment</th>\n",
       "      <th>0</th>\n",
       "    </tr>\n",
       "  </thead>\n",
       "  <tbody>\n",
       "    <tr>\n",
       "      <th>0</th>\n",
       "      <td>entrées et plats composés</td>\n",
       "      <td>1837</td>\n",
       "    </tr>\n",
       "    <tr>\n",
       "      <th>1</th>\n",
       "      <td>produits céréaliers</td>\n",
       "      <td>1741</td>\n",
       "    </tr>\n",
       "    <tr>\n",
       "      <th>2</th>\n",
       "      <td>viandes, œufs, poissons</td>\n",
       "      <td>519</td>\n",
       "    </tr>\n",
       "    <tr>\n",
       "      <th>3</th>\n",
       "      <td>aides culinaires et ingrédients divers</td>\n",
       "      <td>357</td>\n",
       "    </tr>\n",
       "    <tr>\n",
       "      <th>4</th>\n",
       "      <td>lait et produits laitiers</td>\n",
       "      <td>293</td>\n",
       "    </tr>\n",
       "    <tr>\n",
       "      <th>5</th>\n",
       "      <td>fruits, légumes, légumineuses et oléagineux</td>\n",
       "      <td>228</td>\n",
       "    </tr>\n",
       "    <tr>\n",
       "      <th>6</th>\n",
       "      <td>boissons</td>\n",
       "      <td>205</td>\n",
       "    </tr>\n",
       "    <tr>\n",
       "      <th>7</th>\n",
       "      <td>aliments infantiles</td>\n",
       "      <td>143</td>\n",
       "    </tr>\n",
       "    <tr>\n",
       "      <th>8</th>\n",
       "      <td>produits sucrés</td>\n",
       "      <td>140</td>\n",
       "    </tr>\n",
       "    <tr>\n",
       "      <th>9</th>\n",
       "      <td>glaces et sorbets</td>\n",
       "      <td>125</td>\n",
       "    </tr>\n",
       "    <tr>\n",
       "      <th>10</th>\n",
       "      <td>matières grasses</td>\n",
       "      <td>83</td>\n",
       "    </tr>\n",
       "  </tbody>\n",
       "</table>\n",
       "</div>"
      ],
      "text/plain": [
       "                                 Groupe_aliment     0\n",
       "0                     entrées et plats composés  1837\n",
       "1                           produits céréaliers  1741\n",
       "2                       viandes, œufs, poissons   519\n",
       "3        aides culinaires et ingrédients divers   357\n",
       "4                     lait et produits laitiers   293\n",
       "5   fruits, légumes, légumineuses et oléagineux   228\n",
       "6                                      boissons   205\n",
       "7                           aliments infantiles   143\n",
       "8                               produits sucrés   140\n",
       "9                             glaces et sorbets   125\n",
       "10                             matières grasses    83"
      ]
     },
     "execution_count": 23,
     "metadata": {},
     "output_type": "execute_result"
    }
   ],
   "source": [
    "printmd(\"**10 de groupe d'aliments**\")\n",
    "df.groupby('Groupe_aliment').size().sort_values(ascending=False).reset_index()"
   ]
  },
  {
   "cell_type": "code",
   "execution_count": 19,
   "metadata": {},
   "outputs": [
    {
     "name": "stdout",
     "output_type": "stream",
     "text": [
      "\n"
     ]
    },
    {
     "data": {
      "text/markdown": [
       "**Pire score environnemental par recette**"
      ],
      "text/plain": [
       "<IPython.core.display.Markdown object>"
      ]
     },
     "metadata": {},
     "output_type": "display_data"
    },
    {
     "data": {
      "text/html": [
       "<div>\n",
       "<style scoped>\n",
       "    .dataframe tbody tr th:only-of-type {\n",
       "        vertical-align: middle;\n",
       "    }\n",
       "\n",
       "    .dataframe tbody tr th {\n",
       "        vertical-align: top;\n",
       "    }\n",
       "\n",
       "    .dataframe thead th {\n",
       "        text-align: right;\n",
       "    }\n",
       "</style>\n",
       "<table border=\"1\" class=\"dataframe\">\n",
       "  <thead>\n",
       "    <tr style=\"text-align: right;\">\n",
       "      <th></th>\n",
       "      <th>Ciqual_code</th>\n",
       "      <th>Nom_Français</th>\n",
       "      <th>Score_EF</th>\n",
       "    </tr>\n",
       "  </thead>\n",
       "  <tbody>\n",
       "    <tr>\n",
       "      <th>0</th>\n",
       "      <td>30155</td>\n",
       "      <td>Merguez, boeuf et mouton, cuite</td>\n",
       "      <td>4.292133</td>\n",
       "    </tr>\n",
       "    <tr>\n",
       "      <th>1</th>\n",
       "      <td>30156</td>\n",
       "      <td>Merguez, boeuf et mouton, crue</td>\n",
       "      <td>4.260867</td>\n",
       "    </tr>\n",
       "    <tr>\n",
       "      <th>2</th>\n",
       "      <td>9863</td>\n",
       "      <td>Nouilles asiatiques aromatisées, déshydratées</td>\n",
       "      <td>4.172748</td>\n",
       "    </tr>\n",
       "    <tr>\n",
       "      <th>3</th>\n",
       "      <td>30154</td>\n",
       "      <td>Merguez, bœuf, mouton et porc, crue</td>\n",
       "      <td>3.479717</td>\n",
       "    </tr>\n",
       "    <tr>\n",
       "      <th>4</th>\n",
       "      <td>19698</td>\n",
       "      <td>Tiramisu, rayon frais</td>\n",
       "      <td>3.438330</td>\n",
       "    </tr>\n",
       "    <tr>\n",
       "      <th>5</th>\n",
       "      <td>25159</td>\n",
       "      <td>Tajine de mouton</td>\n",
       "      <td>3.231135</td>\n",
       "    </tr>\n",
       "    <tr>\n",
       "      <th>6</th>\n",
       "      <td>25163</td>\n",
       "      <td>Boeuf, boulettes cuites</td>\n",
       "      <td>3.161151</td>\n",
       "    </tr>\n",
       "    <tr>\n",
       "      <th>7</th>\n",
       "      <td>25124</td>\n",
       "      <td>Navarin d'agneau aux légumes</td>\n",
       "      <td>3.056632</td>\n",
       "    </tr>\n",
       "    <tr>\n",
       "      <th>8</th>\n",
       "      <td>30152</td>\n",
       "      <td>Merguez, pur bœuf, crue</td>\n",
       "      <td>3.044080</td>\n",
       "    </tr>\n",
       "    <tr>\n",
       "      <th>9</th>\n",
       "      <td>25602</td>\n",
       "      <td>Salade composée avec viande ou poisson, appert...</td>\n",
       "      <td>2.874360</td>\n",
       "    </tr>\n",
       "  </tbody>\n",
       "</table>\n",
       "</div>"
      ],
      "text/plain": [
       "   Ciqual_code                                       Nom_Français  Score_EF\n",
       "0        30155                    Merguez, boeuf et mouton, cuite  4.292133\n",
       "1        30156                     Merguez, boeuf et mouton, crue  4.260867\n",
       "2         9863      Nouilles asiatiques aromatisées, déshydratées  4.172748\n",
       "3        30154                Merguez, bœuf, mouton et porc, crue  3.479717\n",
       "4        19698                              Tiramisu, rayon frais  3.438330\n",
       "5        25159                                   Tajine de mouton  3.231135\n",
       "6        25163                            Boeuf, boulettes cuites  3.161151\n",
       "7        25124                       Navarin d'agneau aux légumes  3.056632\n",
       "8        30152                            Merguez, pur bœuf, crue  3.044080\n",
       "9        25602  Salade composée avec viande ou poisson, appert...  2.874360"
      ]
     },
     "execution_count": 19,
     "metadata": {},
     "output_type": "execute_result"
    }
   ],
   "source": [
    "print(\"\")\n",
    "printmd(\"**Pire score environnemental par recette**\")\n",
    "df.groupby(['Ciqual_code','Nom_Français'])['Score_EF'].sum().sort_values(ascending=False).head(10).reset_index()"
   ]
  },
  {
   "cell_type": "markdown",
   "metadata": {},
   "source": [
    "#### Exemple de score environnemental : Boulettes de bieuf cuite"
   ]
  },
  {
   "cell_type": "code",
   "execution_count": 35,
   "metadata": {
    "scrolled": true
   },
   "outputs": [
    {
     "data": {
      "text/markdown": [
       "**Score environnemental par kg de produit 3.16**"
      ],
      "text/plain": [
       "<IPython.core.display.Markdown object>"
      ]
     },
     "metadata": {},
     "output_type": "display_data"
    },
    {
     "data": {
      "image/png": "[encoded data removed]",
      "text/plain": [
       "<Figure size 432x432 with 1 Axes>"
      ]
     },
     "metadata": {},
     "output_type": "display_data"
    }
   ],
   "source": [
    "df_25163 = df[df['Ciqual_code'] == 25163]\n",
    "\n",
    "printmd(f\"**Score environnemental par kg de produit {round(df_25163.Score_EF.sum(),2)}**\")\n",
    "\n",
    "plt.figure(figsize = (6, 6))\n",
    "labels = df_25163.Ingredients\n",
    "sizes = df_25163.Score_EF\n",
    "\n",
    "labels = [r\"blanc d'oeuf (1.1 %)\", r'boeuf (93.7 %)', \n",
    "r'oignons (0.5 %)', r'persil (0.4 %)', r'lait demi-écremé (0.4 %)', r'Autres étapes (0.4 %)']\n",
    "\n",
    "\n",
    "patches, texts = plt.pie(sizes, startangle=90)\n",
    "\n",
    "plt.legend(patches,labels, loc=\"best\")\n",
    "\n",
    "# Set aspect ratio to be equal so that pie is drawn as a circle.\n",
    "plt.title(\"Impact environnemental par ingrédients : boulettes de Boeuf\")\n",
    "\n",
    "plt.axis('equal')\n",
    "plt.tight_layout()\n",
    "plt.show()"
   ]
  },
  {
   "cell_type": "markdown",
   "metadata": {},
   "source": [
    "#### Exemple de score environnemental : Pizza jambon fromage"
   ]
  },
  {
   "cell_type": "code",
   "execution_count": null,
   "metadata": {},
   "outputs": [],
   "source": [
    "df_25435 = df[df['Ciqual_code'] == 25435]\n",
    "df_25435.Ingredients\n",
    "\n"
   ]
  },
  {
   "cell_type": "code",
   "execution_count": 37,
   "metadata": {},
   "outputs": [
    {
     "data": {
      "text/markdown": [
       "**Score environnemental par kg de produit 0.43**"
      ],
      "text/plain": [
       "<IPython.core.display.Markdown object>"
      ]
     },
     "metadata": {},
     "output_type": "display_data"
    },
    {
     "name": "stderr",
     "output_type": "stream",
     "text": [
      "<ipython-input-37-ba6a85afca89>:13: MatplotlibDeprecationWarning: normalize=None does not normalize if the sum is less than 1 but this behavior is deprecated since 3.3 until two minor releases later. After the deprecation period the default value will be normalize=True. To prevent normalization pass normalize=False \n",
      "  patches, texts = plt.pie(sizes, startangle=90)\n"
     ]
    },
    {
     "data": {
      "image/png": "[encoded data removed]",
      "text/plain": [
       "<Figure size 432x432 with 1 Axes>"
      ]
     },
     "metadata": {},
     "output_type": "display_data"
    }
   ],
   "source": [
    "df_25435 = df[df['Ciqual_code'] == 25435]\n",
    "\n",
    "printmd(f\"**Score environnemental par kg de produit {round(df_25435.Score_EF.sum(),2)}**\")\n",
    "\n",
    "plt.figure(figsize = (6, 6))\n",
    "labels = df_25435.Ingredients\n",
    "sizes = df_25435.Score_EF\n",
    "\n",
    "labels = [r\"Jambon cuit (45.7 %)\", r'Gruyère (16.7 %)', \n",
    "r'Huile d olive (5.7 %)', r'Tomate (3.4 %)', r'Farine de blé (4 %)', r'Autres étapes (24.2 %)']\n",
    "\n",
    "\n",
    "patches, texts = plt.pie(sizes, startangle=90)\n",
    "\n",
    "plt.legend(patches,labels, loc=\"best\")\n",
    "\n",
    "# Set aspect ratio to be equal so that pie is drawn as a circle.\n",
    "plt.title(\"Impact par ingrédients : Pizza jambon fromage\")\n",
    "\n",
    "plt.axis('equal')\n",
    "plt.tight_layout()\n",
    "plt.show()"
   ]
  },
  {
   "cell_type": "code",
   "execution_count": null,
   "metadata": {},
   "outputs": [],
   "source": []
  },
  {
   "cell_type": "markdown",
   "metadata": {},
   "source": [
    "#### Fortes corrélations Score EF / le changement climatique - particules fines - Acidification - Eutrophisation terrestre et eutrophisation marine"
   ]
  },
  {
   "cell_type": "code",
   "execution_count": 38,
   "metadata": {},
   "outputs": [
    {
     "data": {
      "text/html": [
       "<div>\n",
       "<style scoped>\n",
       "    .dataframe tbody tr th:only-of-type {\n",
       "        vertical-align: middle;\n",
       "    }\n",
       "\n",
       "    .dataframe tbody tr th {\n",
       "        vertical-align: top;\n",
       "    }\n",
       "\n",
       "    .dataframe thead th {\n",
       "        text-align: right;\n",
       "    }\n",
       "</style>\n",
       "<table border=\"1\" class=\"dataframe\">\n",
       "  <thead>\n",
       "    <tr style=\"text-align: right;\">\n",
       "      <th></th>\n",
       "      <th>Ciqual_AGB</th>\n",
       "      <th>Ciqual_code</th>\n",
       "      <th>Score_EF</th>\n",
       "      <th>Changement_climatique</th>\n",
       "      <th>Appauvrissement_couche_ozone</th>\n",
       "      <th>exposition_Particules_fines</th>\n",
       "      <th>Acidification_terre_eaux</th>\n",
       "      <th>Eutrophisation_terreste</th>\n",
       "      <th>Eutrophisation_eaux_douces</th>\n",
       "      <th>Eutrophisation_marine</th>\n",
       "      <th>Rayonnements_ionisants</th>\n",
       "      <th>Formation_photochimique_ozone</th>\n",
       "    </tr>\n",
       "  </thead>\n",
       "  <tbody>\n",
       "    <tr>\n",
       "      <th>Ciqual_AGB</th>\n",
       "      <td>1.000000</td>\n",
       "      <td>1.000000</td>\n",
       "      <td>-0.001866</td>\n",
       "      <td>0.012516</td>\n",
       "      <td>-0.002609</td>\n",
       "      <td>-0.002347</td>\n",
       "      <td>-0.000183</td>\n",
       "      <td>-0.000417</td>\n",
       "      <td>-0.010702</td>\n",
       "      <td>0.009701</td>\n",
       "      <td>-0.029757</td>\n",
       "      <td>0.001272</td>\n",
       "    </tr>\n",
       "    <tr>\n",
       "      <th>Ciqual_code</th>\n",
       "      <td>1.000000</td>\n",
       "      <td>1.000000</td>\n",
       "      <td>-0.001866</td>\n",
       "      <td>0.012516</td>\n",
       "      <td>-0.002609</td>\n",
       "      <td>-0.002347</td>\n",
       "      <td>-0.000183</td>\n",
       "      <td>-0.000417</td>\n",
       "      <td>-0.010702</td>\n",
       "      <td>0.009701</td>\n",
       "      <td>-0.029757</td>\n",
       "      <td>0.001272</td>\n",
       "    </tr>\n",
       "    <tr>\n",
       "      <th>Score_EF</th>\n",
       "      <td>-0.001866</td>\n",
       "      <td>-0.001866</td>\n",
       "      <td>1.000000</td>\n",
       "      <td>0.924611</td>\n",
       "      <td>0.659626</td>\n",
       "      <td>0.959009</td>\n",
       "      <td>0.953467</td>\n",
       "      <td>0.947484</td>\n",
       "      <td>0.698390</td>\n",
       "      <td>0.929788</td>\n",
       "      <td>0.380462</td>\n",
       "      <td>0.617214</td>\n",
       "    </tr>\n",
       "    <tr>\n",
       "      <th>Changement_climatique</th>\n",
       "      <td>0.012516</td>\n",
       "      <td>0.012516</td>\n",
       "      <td>0.924611</td>\n",
       "      <td>1.000000</td>\n",
       "      <td>0.461890</td>\n",
       "      <td>0.900096</td>\n",
       "      <td>0.901003</td>\n",
       "      <td>0.926164</td>\n",
       "      <td>0.603945</td>\n",
       "      <td>0.888125</td>\n",
       "      <td>0.222129</td>\n",
       "      <td>0.473993</td>\n",
       "    </tr>\n",
       "    <tr>\n",
       "      <th>Appauvrissement_couche_ozone</th>\n",
       "      <td>-0.002609</td>\n",
       "      <td>-0.002609</td>\n",
       "      <td>0.659626</td>\n",
       "      <td>0.461890</td>\n",
       "      <td>1.000000</td>\n",
       "      <td>0.609345</td>\n",
       "      <td>0.589293</td>\n",
       "      <td>0.495102</td>\n",
       "      <td>0.426228</td>\n",
       "      <td>0.581852</td>\n",
       "      <td>0.521941</td>\n",
       "      <td>0.730202</td>\n",
       "    </tr>\n",
       "    <tr>\n",
       "      <th>exposition_Particules_fines</th>\n",
       "      <td>-0.002347</td>\n",
       "      <td>-0.002347</td>\n",
       "      <td>0.959009</td>\n",
       "      <td>0.900096</td>\n",
       "      <td>0.609345</td>\n",
       "      <td>1.000000</td>\n",
       "      <td>0.999113</td>\n",
       "      <td>0.980543</td>\n",
       "      <td>0.588651</td>\n",
       "      <td>0.913956</td>\n",
       "      <td>0.247366</td>\n",
       "      <td>0.688532</td>\n",
       "    </tr>\n",
       "    <tr>\n",
       "      <th>Acidification_terre_eaux</th>\n",
       "      <td>-0.000183</td>\n",
       "      <td>-0.000183</td>\n",
       "      <td>0.953467</td>\n",
       "      <td>0.901003</td>\n",
       "      <td>0.589293</td>\n",
       "      <td>0.999113</td>\n",
       "      <td>1.000000</td>\n",
       "      <td>0.983106</td>\n",
       "      <td>0.575238</td>\n",
       "      <td>0.913420</td>\n",
       "      <td>0.230613</td>\n",
       "      <td>0.683689</td>\n",
       "    </tr>\n",
       "    <tr>\n",
       "      <th>Eutrophisation_terreste</th>\n",
       "      <td>-0.000417</td>\n",
       "      <td>-0.000417</td>\n",
       "      <td>0.947484</td>\n",
       "      <td>0.926164</td>\n",
       "      <td>0.495102</td>\n",
       "      <td>0.980543</td>\n",
       "      <td>0.983106</td>\n",
       "      <td>1.000000</td>\n",
       "      <td>0.590063</td>\n",
       "      <td>0.893853</td>\n",
       "      <td>0.229492</td>\n",
       "      <td>0.539576</td>\n",
       "    </tr>\n",
       "    <tr>\n",
       "      <th>Eutrophisation_eaux_douces</th>\n",
       "      <td>-0.010702</td>\n",
       "      <td>-0.010702</td>\n",
       "      <td>0.698390</td>\n",
       "      <td>0.603945</td>\n",
       "      <td>0.426228</td>\n",
       "      <td>0.588651</td>\n",
       "      <td>0.575238</td>\n",
       "      <td>0.590063</td>\n",
       "      <td>1.000000</td>\n",
       "      <td>0.678475</td>\n",
       "      <td>0.346352</td>\n",
       "      <td>0.299947</td>\n",
       "    </tr>\n",
       "    <tr>\n",
       "      <th>Eutrophisation_marine</th>\n",
       "      <td>0.009701</td>\n",
       "      <td>0.009701</td>\n",
       "      <td>0.929788</td>\n",
       "      <td>0.888125</td>\n",
       "      <td>0.581852</td>\n",
       "      <td>0.913956</td>\n",
       "      <td>0.913420</td>\n",
       "      <td>0.893853</td>\n",
       "      <td>0.678475</td>\n",
       "      <td>1.000000</td>\n",
       "      <td>0.220662</td>\n",
       "      <td>0.657423</td>\n",
       "    </tr>\n",
       "    <tr>\n",
       "      <th>Rayonnements_ionisants</th>\n",
       "      <td>-0.029757</td>\n",
       "      <td>-0.029757</td>\n",
       "      <td>0.380462</td>\n",
       "      <td>0.222129</td>\n",
       "      <td>0.521941</td>\n",
       "      <td>0.247366</td>\n",
       "      <td>0.230613</td>\n",
       "      <td>0.229492</td>\n",
       "      <td>0.346352</td>\n",
       "      <td>0.220662</td>\n",
       "      <td>1.000000</td>\n",
       "      <td>0.117551</td>\n",
       "    </tr>\n",
       "    <tr>\n",
       "      <th>Formation_photochimique_ozone</th>\n",
       "      <td>0.001272</td>\n",
       "      <td>0.001272</td>\n",
       "      <td>0.617214</td>\n",
       "      <td>0.473993</td>\n",
       "      <td>0.730202</td>\n",
       "      <td>0.688532</td>\n",
       "      <td>0.683689</td>\n",
       "      <td>0.539576</td>\n",
       "      <td>0.299947</td>\n",
       "      <td>0.657423</td>\n",
       "      <td>0.117551</td>\n",
       "      <td>1.000000</td>\n",
       "    </tr>\n",
       "  </tbody>\n",
       "</table>\n",
       "</div>"
      ],
      "text/plain": [
       "                                Ciqual_AGB  Ciqual_code  Score_EF  \\\n",
       "Ciqual_AGB                        1.000000     1.000000 -0.001866   \n",
       "Ciqual_code                       1.000000     1.000000 -0.001866   \n",
       "Score_EF                         -0.001866    -0.001866  1.000000   \n",
       "Changement_climatique             0.012516     0.012516  0.924611   \n",
       "Appauvrissement_couche_ozone     -0.002609    -0.002609  0.659626   \n",
       "exposition_Particules_fines      -0.002347    -0.002347  0.959009   \n",
       "Acidification_terre_eaux         -0.000183    -0.000183  0.953467   \n",
       "Eutrophisation_terreste          -0.000417    -0.000417  0.947484   \n",
       "Eutrophisation_eaux_douces       -0.010702    -0.010702  0.698390   \n",
       "Eutrophisation_marine             0.009701     0.009701  0.929788   \n",
       "Rayonnements_ionisants           -0.029757    -0.029757  0.380462   \n",
       "Formation_photochimique_ozone     0.001272     0.001272  0.617214   \n",
       "\n",
       "                                Changement_climatique  \\\n",
       "Ciqual_AGB                                   0.012516   \n",
       "Ciqual_code                                  0.012516   \n",
       "Score_EF                                     0.924611   \n",
       "Changement_climatique                        1.000000   \n",
       "Appauvrissement_couche_ozone                 0.461890   \n",
       "exposition_Particules_fines                  0.900096   \n",
       "Acidification_terre_eaux                     0.901003   \n",
       "Eutrophisation_terreste                      0.926164   \n",
       "Eutrophisation_eaux_douces                   0.603945   \n",
       "Eutrophisation_marine                        0.888125   \n",
       "Rayonnements_ionisants                       0.222129   \n",
       "Formation_photochimique_ozone                0.473993   \n",
       "\n",
       "                                Appauvrissement_couche_ozone  \\\n",
       "Ciqual_AGB                                         -0.002609   \n",
       "Ciqual_code                                        -0.002609   \n",
       "Score_EF                                            0.659626   \n",
       "Changement_climatique                               0.461890   \n",
       "Appauvrissement_couche_ozone                        1.000000   \n",
       "exposition_Particules_fines                         0.609345   \n",
       "Acidification_terre_eaux                            0.589293   \n",
       "Eutrophisation_terreste                             0.495102   \n",
       "Eutrophisation_eaux_douces                          0.426228   \n",
       "Eutrophisation_marine                               0.581852   \n",
       "Rayonnements_ionisants                              0.521941   \n",
       "Formation_photochimique_ozone                       0.730202   \n",
       "\n",
       "                                exposition_Particules_fines  \\\n",
       "Ciqual_AGB                                        -0.002347   \n",
       "Ciqual_code                                       -0.002347   \n",
       "Score_EF                                           0.959009   \n",
       "Changement_climatique                              0.900096   \n",
       "Appauvrissement_couche_ozone                       0.609345   \n",
       "exposition_Particules_fines                        1.000000   \n",
       "Acidification_terre_eaux                           0.999113   \n",
       "Eutrophisation_terreste                            0.980543   \n",
       "Eutrophisation_eaux_douces                         0.588651   \n",
       "Eutrophisation_marine                              0.913956   \n",
       "Rayonnements_ionisants                             0.247366   \n",
       "Formation_photochimique_ozone                      0.688532   \n",
       "\n",
       "                                Acidification_terre_eaux  \\\n",
       "Ciqual_AGB                                     -0.000183   \n",
       "Ciqual_code                                    -0.000183   \n",
       "Score_EF                                        0.953467   \n",
       "Changement_climatique                           0.901003   \n",
       "Appauvrissement_couche_ozone                    0.589293   \n",
       "exposition_Particules_fines                     0.999113   \n",
       "Acidification_terre_eaux                        1.000000   \n",
       "Eutrophisation_terreste                         0.983106   \n",
       "Eutrophisation_eaux_douces                      0.575238   \n",
       "Eutrophisation_marine                           0.913420   \n",
       "Rayonnements_ionisants                          0.230613   \n",
       "Formation_photochimique_ozone                   0.683689   \n",
       "\n",
       "                                Eutrophisation_terreste  \\\n",
       "Ciqual_AGB                                    -0.000417   \n",
       "Ciqual_code                                   -0.000417   \n",
       "Score_EF                                       0.947484   \n",
       "Changement_climatique                          0.926164   \n",
       "Appauvrissement_couche_ozone                   0.495102   \n",
       "exposition_Particules_fines                    0.980543   \n",
       "Acidification_terre_eaux                       0.983106   \n",
       "Eutrophisation_terreste                        1.000000   \n",
       "Eutrophisation_eaux_douces                     0.590063   \n",
       "Eutrophisation_marine                          0.893853   \n",
       "Rayonnements_ionisants                         0.229492   \n",
       "Formation_photochimique_ozone                  0.539576   \n",
       "\n",
       "                                Eutrophisation_eaux_douces  \\\n",
       "Ciqual_AGB                                       -0.010702   \n",
       "Ciqual_code                                      -0.010702   \n",
       "Score_EF                                          0.698390   \n",
       "Changement_climatique                             0.603945   \n",
       "Appauvrissement_couche_ozone                      0.426228   \n",
       "exposition_Particules_fines                       0.588651   \n",
       "Acidification_terre_eaux                          0.575238   \n",
       "Eutrophisation_terreste                           0.590063   \n",
       "Eutrophisation_eaux_douces                        1.000000   \n",
       "Eutrophisation_marine                             0.678475   \n",
       "Rayonnements_ionisants                            0.346352   \n",
       "Formation_photochimique_ozone                     0.299947   \n",
       "\n",
       "                                Eutrophisation_marine  Rayonnements_ionisants  \\\n",
       "Ciqual_AGB                                   0.009701               -0.029757   \n",
       "Ciqual_code                                  0.009701               -0.029757   \n",
       "Score_EF                                     0.929788                0.380462   \n",
       "Changement_climatique                        0.888125                0.222129   \n",
       "Appauvrissement_couche_ozone                 0.581852                0.521941   \n",
       "exposition_Particules_fines                  0.913956                0.247366   \n",
       "Acidification_terre_eaux                     0.913420                0.230613   \n",
       "Eutrophisation_terreste                      0.893853                0.229492   \n",
       "Eutrophisation_eaux_douces                   0.678475                0.346352   \n",
       "Eutrophisation_marine                        1.000000                0.220662   \n",
       "Rayonnements_ionisants                       0.220662                1.000000   \n",
       "Formation_photochimique_ozone                0.657423                0.117551   \n",
       "\n",
       "                                Formation_photochimique_ozone   \n",
       "Ciqual_AGB                                            0.001272  \n",
       "Ciqual_code                                           0.001272  \n",
       "Score_EF                                              0.617214  \n",
       "Changement_climatique                                 0.473993  \n",
       "Appauvrissement_couche_ozone                          0.730202  \n",
       "exposition_Particules_fines                           0.688532  \n",
       "Acidification_terre_eaux                              0.683689  \n",
       "Eutrophisation_terreste                               0.539576  \n",
       "Eutrophisation_eaux_douces                            0.299947  \n",
       "Eutrophisation_marine                                 0.657423  \n",
       "Rayonnements_ionisants                                0.117551  \n",
       "Formation_photochimique_ozone                         1.000000  "
      ]
     },
     "execution_count": 38,
     "metadata": {},
     "output_type": "execute_result"
    }
   ],
   "source": [
    "df.corr()"
   ]
  },
  {
   "cell_type": "code",
   "execution_count": 39,
   "metadata": {},
   "outputs": [],
   "source": [
    "colonnes = ['Score_EF','Changement_climatique','exposition_Particules_fines','Acidification_terre_eaux',\n",
    "            'Eutrophisation_terreste','Eutrophisation_marine']\n",
    "df_chgeClimatique = df[colonnes]\n",
    "#df_chgeClimatique"
   ]
  },
  {
   "cell_type": "code",
   "execution_count": 40,
   "metadata": {},
   "outputs": [
    {
     "data": {
      "text/plain": [
       "Text(0, 0.5, 'Score environnemental')"
      ]
     },
     "execution_count": 40,
     "metadata": {},
     "output_type": "execute_result"
    },
    {
     "data": {
      "image/png": "[encoded data removed]",
      "text/plain": [
       "<Figure size 432x288 with 1 Axes>"
      ]
     },
     "metadata": {
      "needs_background": "light"
     },
     "output_type": "display_data"
    }
   ],
   "source": [
    "plt.title('corrélation changement climatique - Score EF')\n",
    "\n",
    "x = df_chgeClimatique.Score_EF\n",
    "y1 = (df_chgeClimatique.Changement_climatique)\n",
    "\n",
    "plt.scatter(x, y1,color='b')\n",
    "plt.xlabel(\"changement climatique\")\n",
    "plt.ylabel(\"Score environnemental\")"
   ]
  },
  {
   "cell_type": "code",
   "execution_count": 41,
   "metadata": {},
   "outputs": [
    {
     "data": {
      "text/plain": [
       "Text(0, 0.5, 'Score environnemental')"
      ]
     },
     "execution_count": 41,
     "metadata": {},
     "output_type": "execute_result"
    },
    {
     "data": {
      "image/png": "[encoded data removed]",
      "text/plain": [
       "<Figure size 432x288 with 1 Axes>"
      ]
     },
     "metadata": {
      "needs_background": "light"
     },
     "output_type": "display_data"
    }
   ],
   "source": [
    "plt.title('corrélation exposition fines Particules - Score EF')\n",
    "\n",
    "x = df_chgeClimatique.Score_EF\n",
    "y2 = (df_chgeClimatique.exposition_Particules_fines)\n",
    "plt.scatter(x, y2,color='r')\n",
    "plt.xlabel(\"exposition fines Particules\")\n",
    "plt.ylabel(\"Score environnemental\")"
   ]
  },
  {
   "cell_type": "code",
   "execution_count": 42,
   "metadata": {},
   "outputs": [
    {
     "data": {
      "text/plain": [
       "Text(0, 0.5, 'Score environnemental')"
      ]
     },
     "execution_count": 42,
     "metadata": {},
     "output_type": "execute_result"
    },
    {
     "data": {
      "image/png": "[encoded data removed]",
      "text/plain": [
       "<Figure size 432x288 with 1 Axes>"
      ]
     },
     "metadata": {
      "needs_background": "light"
     },
     "output_type": "display_data"
    }
   ],
   "source": [
    "plt.title('corrélation Acidification terre et eaux - Score EF')\n",
    "\n",
    "x = df_chgeClimatique.Score_EF\n",
    "y3 = (df_chgeClimatique.Acidification_terre_eaux)\n",
    "plt.scatter(x, y2,color='g')\n",
    "plt.xlabel(\"exposition fines Particules\")\n",
    "plt.ylabel(\"Score environnemental\")"
   ]
  },
  {
   "cell_type": "code",
   "execution_count": 43,
   "metadata": {},
   "outputs": [
    {
     "data": {
      "text/plain": [
       "Text(0, 0.5, 'Score environnemental')"
      ]
     },
     "execution_count": 43,
     "metadata": {},
     "output_type": "execute_result"
    },
    {
     "data": {
      "image/png": "[encoded data removed]",
      "text/plain": [
       "<Figure size 432x288 with 1 Axes>"
      ]
     },
     "metadata": {
      "needs_background": "light"
     },
     "output_type": "display_data"
    }
   ],
   "source": [
    "plt.title('corrélation Eutrophisation Terreste - Score EF')\n",
    "\n",
    "x = df_chgeClimatique.Score_EF\n",
    "y4 = (df_chgeClimatique.Eutrophisation_terreste)\n",
    "plt.scatter(x, y2,color='r')\n",
    "plt.xlabel(\"Eutrophisation_terreste\")\n",
    "plt.ylabel(\"Score environnemental\")"
   ]
  },
  {
   "cell_type": "code",
   "execution_count": 44,
   "metadata": {},
   "outputs": [
    {
     "data": {
      "text/plain": [
       "Text(0, 0.5, 'Score environnemental')"
      ]
     },
     "execution_count": 44,
     "metadata": {},
     "output_type": "execute_result"
    },
    {
     "data": {
      "image/png": "[encoded data removed]",
      "text/plain": [
       "<Figure size 432x288 with 1 Axes>"
      ]
     },
     "metadata": {
      "needs_background": "light"
     },
     "output_type": "display_data"
    }
   ],
   "source": [
    "plt.title('corrélation Eutrophisation Marine - Score EF')\n",
    "\n",
    "x = df_chgeClimatique.Score_EF\n",
    "y5 = (df_chgeClimatique.Eutrophisation_marine)\n",
    "plt.scatter(x, y2,color='b')\n",
    "plt.xlabel(\"Eutrophisation_marine\")\n",
    "plt.ylabel(\"Score environnemental\")"
   ]
  },
  {
   "cell_type": "code",
   "execution_count": null,
   "metadata": {},
   "outputs": [],
   "source": []
  },
  {
   "cell_type": "code",
   "execution_count": 45,
   "metadata": {},
   "outputs": [
    {
     "data": {
      "text/plain": [
       "0.246535234"
      ]
     },
     "execution_count": 45,
     "metadata": {},
     "output_type": "execute_result"
    }
   ],
   "source": [
    "df[df['Ciqual_code'] == 25404].Score_EF.sum()"
   ]
  },
  {
   "cell_type": "code",
   "execution_count": 46,
   "metadata": {},
   "outputs": [],
   "source": [
    "df_pizza = df[(df[\"Ciqual_code\"] == 25435) | \n",
    "              (df[\"Ciqual_code\"] == 25457) | \n",
    "              (df[\"Ciqual_code\"] == 25462) |\n",
    "              (df[\"Ciqual_code\"] == 25463) |\n",
    "              (df[\"Ciqual_code\"] == 25464) | \n",
    "              (df[\"Ciqual_code\"] == 25472) | \n",
    "              (df[\"Ciqual_code\"] == 25477) |\n",
    "              (df[\"Ciqual_code\"] == 25478) |\n",
    "              (df[\"Ciqual_code\"] == 25570) | \n",
    "              (df[\"Ciqual_code\"] == 26270) | \n",
    "              (df[\"Ciqual_code\"] == 26272) |\n",
    "              (df[\"Ciqual_code\"] == 26274) ]"
   ]
  },
  {
   "cell_type": "code",
   "execution_count": 47,
   "metadata": {},
   "outputs": [
    {
     "data": {
      "text/html": [
       "<div>\n",
       "<style scoped>\n",
       "    .dataframe tbody tr th:only-of-type {\n",
       "        vertical-align: middle;\n",
       "    }\n",
       "\n",
       "    .dataframe tbody tr th {\n",
       "        vertical-align: top;\n",
       "    }\n",
       "\n",
       "    .dataframe thead th {\n",
       "        text-align: right;\n",
       "    }\n",
       "</style>\n",
       "<table border=\"1\" class=\"dataframe\">\n",
       "  <thead>\n",
       "    <tr style=\"text-align: right;\">\n",
       "      <th></th>\n",
       "      <th>Ciqual_AGB</th>\n",
       "      <th>Ciqual_code</th>\n",
       "      <th>Nom_Français</th>\n",
       "      <th>Groupe_aliment</th>\n",
       "      <th>Sous_Grp_aliment</th>\n",
       "      <th>LCI_Name</th>\n",
       "      <th>Ingredients</th>\n",
       "      <th>Score_EF</th>\n",
       "      <th>Changement_climatique</th>\n",
       "      <th>Appauvrissement_couche_ozone</th>\n",
       "      <th>exposition_Particules_fines</th>\n",
       "      <th>Acidification_terre_eaux</th>\n",
       "      <th>Eutrophisation_terreste</th>\n",
       "      <th>Eutrophisation_eaux_douces</th>\n",
       "      <th>Eutrophisation_marine</th>\n",
       "      <th>Rayonnements_ionisants</th>\n",
       "      <th>Formation_photochimique_ozone</th>\n",
       "    </tr>\n",
       "  </thead>\n",
       "  <tbody>\n",
       "    <tr>\n",
       "      <th>3354</th>\n",
       "      <td>25457</td>\n",
       "      <td>25457</td>\n",
       "      <td>Pizza à la viande, type bolognaise</td>\n",
       "      <td>entrées et plats composés</td>\n",
       "      <td>pizzas, tartes et crêpes salées</td>\n",
       "      <td>Pizza, bolognese-style w meat</td>\n",
       "      <td>Bœuf haché</td>\n",
       "      <td>0.607649</td>\n",
       "      <td>7.36369</td>\n",
       "      <td>0.134058</td>\n",
       "      <td>0.592064</td>\n",
       "      <td>0.088593</td>\n",
       "      <td>0.393063</td>\n",
       "      <td>0.330364</td>\n",
       "      <td>18.938863</td>\n",
       "      <td>0.306083</td>\n",
       "      <td>9.121744</td>\n",
       "    </tr>\n",
       "  </tbody>\n",
       "</table>\n",
       "</div>"
      ],
      "text/plain": [
       "      Ciqual_AGB  Ciqual_code                        Nom_Français  \\\n",
       "3354       25457        25457  Pizza à la viande, type bolognaise   \n",
       "\n",
       "                 Groupe_aliment                 Sous_Grp_aliment  \\\n",
       "3354  entrées et plats composés  pizzas, tartes et crêpes salées   \n",
       "\n",
       "                           LCI_Name Ingredients  Score_EF  \\\n",
       "3354  Pizza, bolognese-style w meat  Bœuf haché  0.607649   \n",
       "\n",
       "      Changement_climatique  Appauvrissement_couche_ozone  \\\n",
       "3354                7.36369                      0.134058   \n",
       "\n",
       "      exposition_Particules_fines  Acidification_terre_eaux  \\\n",
       "3354                     0.592064                  0.088593   \n",
       "\n",
       "      Eutrophisation_terreste  Eutrophisation_eaux_douces  \\\n",
       "3354                 0.393063                    0.330364   \n",
       "\n",
       "      Eutrophisation_marine  Rayonnements_ionisants  \\\n",
       "3354              18.938863                0.306083   \n",
       "\n",
       "      Formation_photochimique_ozone   \n",
       "3354                        9.121744  "
      ]
     },
     "execution_count": 47,
     "metadata": {},
     "output_type": "execute_result"
    }
   ],
   "source": [
    "df_pizza.head(1)"
   ]
  },
  {
   "cell_type": "code",
   "execution_count": 48,
   "metadata": {},
   "outputs": [
    {
     "name": "stdout",
     "output_type": "stream",
     "text": [
      "Score environnemental par type de pizza\n"
     ]
    },
    {
     "data": {
      "text/html": [
       "<div>\n",
       "<style scoped>\n",
       "    .dataframe tbody tr th:only-of-type {\n",
       "        vertical-align: middle;\n",
       "    }\n",
       "\n",
       "    .dataframe tbody tr th {\n",
       "        vertical-align: top;\n",
       "    }\n",
       "\n",
       "    .dataframe thead th {\n",
       "        text-align: right;\n",
       "    }\n",
       "</style>\n",
       "<table border=\"1\" class=\"dataframe\">\n",
       "  <thead>\n",
       "    <tr style=\"text-align: right;\">\n",
       "      <th></th>\n",
       "      <th>Nom_Français</th>\n",
       "      <th>Score_EF</th>\n",
       "    </tr>\n",
       "  </thead>\n",
       "  <tbody>\n",
       "    <tr>\n",
       "      <th>0</th>\n",
       "      <td>Pizza à la viande, type bolognaise</td>\n",
       "      <td>0.803266</td>\n",
       "    </tr>\n",
       "    <tr>\n",
       "      <th>1</th>\n",
       "      <td>Pizza aux lardons, oignons et fromage</td>\n",
       "      <td>0.564180</td>\n",
       "    </tr>\n",
       "    <tr>\n",
       "      <th>2</th>\n",
       "      <td>Pizza 4 fromages</td>\n",
       "      <td>0.471858</td>\n",
       "    </tr>\n",
       "    <tr>\n",
       "      <th>3</th>\n",
       "      <td>Pizza jambon fromage</td>\n",
       "      <td>0.430275</td>\n",
       "    </tr>\n",
       "    <tr>\n",
       "      <th>4</th>\n",
       "      <td>Pizza au speck ou jambon cru</td>\n",
       "      <td>0.430275</td>\n",
       "    </tr>\n",
       "    <tr>\n",
       "      <th>5</th>\n",
       "      <td>Pizza au poulet</td>\n",
       "      <td>0.430275</td>\n",
       "    </tr>\n",
       "    <tr>\n",
       "      <th>6</th>\n",
       "      <td>Pizza aux légumes ou Pizza 4 saisons</td>\n",
       "      <td>0.377086</td>\n",
       "    </tr>\n",
       "    <tr>\n",
       "      <th>7</th>\n",
       "      <td>Pizza aux fruits de mer</td>\n",
       "      <td>0.367327</td>\n",
       "    </tr>\n",
       "    <tr>\n",
       "      <th>8</th>\n",
       "      <td>Pizza au thon</td>\n",
       "      <td>0.367327</td>\n",
       "    </tr>\n",
       "    <tr>\n",
       "      <th>9</th>\n",
       "      <td>Pizza au saumon</td>\n",
       "      <td>0.367327</td>\n",
       "    </tr>\n",
       "    <tr>\n",
       "      <th>10</th>\n",
       "      <td>Pizza au chorizo ou salami</td>\n",
       "      <td>0.341569</td>\n",
       "    </tr>\n",
       "    <tr>\n",
       "      <th>11</th>\n",
       "      <td>Pizza champignons fromage</td>\n",
       "      <td>0.242046</td>\n",
       "    </tr>\n",
       "  </tbody>\n",
       "</table>\n",
       "</div>"
      ],
      "text/plain": [
       "                             Nom_Français  Score_EF\n",
       "0      Pizza à la viande, type bolognaise  0.803266\n",
       "1   Pizza aux lardons, oignons et fromage  0.564180\n",
       "2                        Pizza 4 fromages  0.471858\n",
       "3                    Pizza jambon fromage  0.430275\n",
       "4            Pizza au speck ou jambon cru  0.430275\n",
       "5                         Pizza au poulet  0.430275\n",
       "6    Pizza aux légumes ou Pizza 4 saisons  0.377086\n",
       "7                 Pizza aux fruits de mer  0.367327\n",
       "8                           Pizza au thon  0.367327\n",
       "9                         Pizza au saumon  0.367327\n",
       "10             Pizza au chorizo ou salami  0.341569\n",
       "11              Pizza champignons fromage  0.242046"
      ]
     },
     "execution_count": 48,
     "metadata": {},
     "output_type": "execute_result"
    }
   ],
   "source": [
    "print(f\"Score environnemental par type de pizza\")\n",
    "df_pizza.groupby(['Nom_Français'])['Score_EF'].sum().sort_values(ascending=False).reset_index()"
   ]
  },
  {
   "cell_type": "markdown",
   "metadata": {},
   "source": [
    "####  Score environnemental PEF  des PIZZAS\n",
    "PEF -  Product Environmental Footprint"
   ]
  },
  {
   "cell_type": "code",
   "execution_count": 50,
   "metadata": {},
   "outputs": [
    {
     "data": {
      "text/plain": [
       "[Text(0, 0, 'Pizza à la viande, type bolognaise'),\n",
       " Text(1, 0, 'Pizza aux lardons, oignons et fromage'),\n",
       " Text(2, 0, 'Pizza 4 fromages'),\n",
       " Text(3, 0, 'Pizza jambon fromage'),\n",
       " Text(4, 0, 'Pizza au speck ou jambon cru'),\n",
       " Text(5, 0, 'Pizza au poulet'),\n",
       " Text(6, 0, 'Pizza aux légumes ou Pizza 4 saisons'),\n",
       " Text(7, 0, 'Pizza aux fruits de mer'),\n",
       " Text(8, 0, 'Pizza au thon'),\n",
       " Text(9, 0, 'Pizza au saumon'),\n",
       " Text(10, 0, 'Pizza au chorizo ou salami'),\n",
       " Text(11, 0, 'Pizza champignons fromage')]"
      ]
     },
     "execution_count": 50,
     "metadata": {},
     "output_type": "execute_result"
    },
    {
     "data": {
      "image/png": "[encoded data removed]",
      "text/plain": [
       "<Figure size 1152x504 with 1 Axes>"
      ]
     },
     "metadata": {
      "needs_background": "light"
     },
     "output_type": "display_data"
    }
   ],
   "source": [
    "s = df_pizza.groupby(['Nom_Français'])['Score_EF'].sum().sort_values(ascending=False).reset_index()\n",
    "\n",
    "fig, ax = plt.subplots(figsize=(16,7))\n",
    "\n",
    "ax = sns.barplot(x='Nom_Français', y='Score_EF', data=s)\n",
    "ax.set_xticklabels(ax.get_xticklabels(),rotation = 80)"
   ]
  },
  {
   "cell_type": "code",
   "execution_count": null,
   "metadata": {},
   "outputs": [],
   "source": []
  },
  {
   "cell_type": "code",
   "execution_count": null,
   "metadata": {},
   "outputs": [],
   "source": []
  }
 ],
 "metadata": {
  "kernelspec": {
   "display_name": "Python 3",
   "language": "python",
   "name": "python3"
  },
  "language_info": {
   "codemirror_mode": {
    "name": "ipython",
    "version": 3
   },
   "file_extension": ".py",
   "mimetype": "text/x-python",
   "name": "python",
   "nbconvert_exporter": "python",
   "pygments_lexer": "ipython3",
   "version": "3.8.5"
  }
 },
 "nbformat": 4,
 "nbformat_minor": 2
}

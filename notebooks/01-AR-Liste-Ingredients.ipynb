{
 "cells": [
  {
   "cell_type": "code",
   "execution_count": 1,
   "id": "966018d3",
   "metadata": {},
   "outputs": [],
   "source": [
    "import pandas as pd"
   ]
  },
  {
   "cell_type": "code",
   "execution_count": 2,
   "id": "c9dfe1d4",
   "metadata": {},
   "outputs": [
    {
     "name": "stdout",
     "output_type": "stream",
     "text": [
      "/Users/reffet/Desktop/Jedha_Formation/Projets/agribalyse/notebooks\r\n"
     ]
    }
   ],
   "source": [
    "!pwd"
   ]
  },
  {
   "cell_type": "code",
   "execution_count": 3,
   "id": "e7248427",
   "metadata": {},
   "outputs": [
    {
     "data": {
      "text/plain": [
       "Index(['Code_AGB', 'Code_CIQUAL', 'Groupe_aliment', 'Sous-groupe_aliment',\n",
       "       'Nom_Produit_Francais', 'LCI_Name', 'Saisonnalite',\n",
       "       'Transport_par_avion_', 'Livraison', 'Materiau_emballage',\n",
       "       ...\n",
       "       'Viande de moutton sans os', 'Viande de porc maigre',\n",
       "       'Viande de poulet sans os', 'Viande de veau sans os', 'Vin blanc',\n",
       "       'Vin rouge', 'Yaourt', 'citron', 'Échalote', 'Œuf de poule'],\n",
       "      dtype='object', length=226)"
      ]
     },
     "execution_count": 3,
     "metadata": {},
     "output_type": "execute_result"
    }
   ],
   "source": [
    "df = pd.read_csv(\"./../data/interim/Agribalyse_Detail ingredient.csv\")\n",
    "df.columns\n"
   ]
  },
  {
   "cell_type": "code",
   "execution_count": 4,
   "id": "e228c789",
   "metadata": {},
   "outputs": [
    {
     "data": {
      "text/html": [
       "<div>\n",
       "<style scoped>\n",
       "    .dataframe tbody tr th:only-of-type {\n",
       "        vertical-align: middle;\n",
       "    }\n",
       "\n",
       "    .dataframe tbody tr th {\n",
       "        vertical-align: top;\n",
       "    }\n",
       "\n",
       "    .dataframe thead th {\n",
       "        text-align: right;\n",
       "    }\n",
       "</style>\n",
       "<table border=\"1\" class=\"dataframe\">\n",
       "  <thead>\n",
       "    <tr style=\"text-align: right;\">\n",
       "      <th></th>\n",
       "      <th>Abats de bœuf</th>\n",
       "      <th>Abats de porc</th>\n",
       "      <th>Abats de poulet</th>\n",
       "      <th>Abats de veau</th>\n",
       "      <th>Abricot</th>\n",
       "      <th>Ail</th>\n",
       "      <th>Amande</th>\n",
       "      <th>Amidon de maïs</th>\n",
       "      <th>Ananas</th>\n",
       "      <th>Anchois</th>\n",
       "      <th>...</th>\n",
       "      <th>Viande de moutton sans os</th>\n",
       "      <th>Viande de porc maigre</th>\n",
       "      <th>Viande de poulet sans os</th>\n",
       "      <th>Viande de veau sans os</th>\n",
       "      <th>Vin blanc</th>\n",
       "      <th>Vin rouge</th>\n",
       "      <th>Yaourt</th>\n",
       "      <th>citron</th>\n",
       "      <th>Échalote</th>\n",
       "      <th>Œuf de poule</th>\n",
       "    </tr>\n",
       "  </thead>\n",
       "  <tbody>\n",
       "    <tr>\n",
       "      <th>0</th>\n",
       "      <td>0.0</td>\n",
       "      <td>0.0</td>\n",
       "      <td>0.0</td>\n",
       "      <td>0.0</td>\n",
       "      <td>0.0</td>\n",
       "      <td>0.0</td>\n",
       "      <td>0.0</td>\n",
       "      <td>0.0</td>\n",
       "      <td>0.0</td>\n",
       "      <td>0.0</td>\n",
       "      <td>...</td>\n",
       "      <td>0.0</td>\n",
       "      <td>0.0</td>\n",
       "      <td>0.0</td>\n",
       "      <td>0.0</td>\n",
       "      <td>0.0</td>\n",
       "      <td>0.0</td>\n",
       "      <td>0.0</td>\n",
       "      <td>0.0</td>\n",
       "      <td>0.0</td>\n",
       "      <td>0.0</td>\n",
       "    </tr>\n",
       "    <tr>\n",
       "      <th>1</th>\n",
       "      <td>0.0</td>\n",
       "      <td>0.0</td>\n",
       "      <td>0.0</td>\n",
       "      <td>0.0</td>\n",
       "      <td>0.0</td>\n",
       "      <td>0.0</td>\n",
       "      <td>0.0</td>\n",
       "      <td>0.0</td>\n",
       "      <td>0.0</td>\n",
       "      <td>0.0</td>\n",
       "      <td>...</td>\n",
       "      <td>0.0</td>\n",
       "      <td>0.0</td>\n",
       "      <td>0.0</td>\n",
       "      <td>0.0</td>\n",
       "      <td>0.0</td>\n",
       "      <td>0.0</td>\n",
       "      <td>0.0</td>\n",
       "      <td>0.0</td>\n",
       "      <td>0.0</td>\n",
       "      <td>0.0</td>\n",
       "    </tr>\n",
       "    <tr>\n",
       "      <th>2</th>\n",
       "      <td>0.0</td>\n",
       "      <td>0.0</td>\n",
       "      <td>0.0</td>\n",
       "      <td>0.0</td>\n",
       "      <td>0.0</td>\n",
       "      <td>0.0</td>\n",
       "      <td>0.0</td>\n",
       "      <td>0.0</td>\n",
       "      <td>0.0</td>\n",
       "      <td>0.0</td>\n",
       "      <td>...</td>\n",
       "      <td>0.0</td>\n",
       "      <td>0.0</td>\n",
       "      <td>0.0</td>\n",
       "      <td>0.0</td>\n",
       "      <td>0.0</td>\n",
       "      <td>0.0</td>\n",
       "      <td>0.0</td>\n",
       "      <td>0.0</td>\n",
       "      <td>0.0</td>\n",
       "      <td>0.0</td>\n",
       "    </tr>\n",
       "    <tr>\n",
       "      <th>3</th>\n",
       "      <td>0.0</td>\n",
       "      <td>0.0</td>\n",
       "      <td>0.0</td>\n",
       "      <td>0.0</td>\n",
       "      <td>0.0</td>\n",
       "      <td>0.0</td>\n",
       "      <td>0.0</td>\n",
       "      <td>0.0</td>\n",
       "      <td>0.0</td>\n",
       "      <td>0.0</td>\n",
       "      <td>...</td>\n",
       "      <td>0.0</td>\n",
       "      <td>0.0</td>\n",
       "      <td>0.0</td>\n",
       "      <td>0.0</td>\n",
       "      <td>0.0</td>\n",
       "      <td>0.0</td>\n",
       "      <td>0.0</td>\n",
       "      <td>0.0</td>\n",
       "      <td>0.0</td>\n",
       "      <td>0.0</td>\n",
       "    </tr>\n",
       "    <tr>\n",
       "      <th>4</th>\n",
       "      <td>0.0</td>\n",
       "      <td>0.0</td>\n",
       "      <td>0.0</td>\n",
       "      <td>0.0</td>\n",
       "      <td>0.0</td>\n",
       "      <td>0.0</td>\n",
       "      <td>0.0</td>\n",
       "      <td>0.0</td>\n",
       "      <td>0.0</td>\n",
       "      <td>0.0</td>\n",
       "      <td>...</td>\n",
       "      <td>0.0</td>\n",
       "      <td>0.0</td>\n",
       "      <td>0.0</td>\n",
       "      <td>0.0</td>\n",
       "      <td>0.0</td>\n",
       "      <td>0.0</td>\n",
       "      <td>0.0</td>\n",
       "      <td>0.0</td>\n",
       "      <td>0.0</td>\n",
       "      <td>0.0</td>\n",
       "    </tr>\n",
       "  </tbody>\n",
       "</table>\n",
       "<p>5 rows × 213 columns</p>\n",
       "</div>"
      ],
      "text/plain": [
       "   Abats de bœuf  Abats de porc  Abats de poulet  Abats de veau  Abricot  Ail  \\\n",
       "0            0.0            0.0              0.0            0.0      0.0  0.0   \n",
       "1            0.0            0.0              0.0            0.0      0.0  0.0   \n",
       "2            0.0            0.0              0.0            0.0      0.0  0.0   \n",
       "3            0.0            0.0              0.0            0.0      0.0  0.0   \n",
       "4            0.0            0.0              0.0            0.0      0.0  0.0   \n",
       "\n",
       "   Amande  Amidon de maïs  Ananas  Anchois  ...  Viande de moutton sans os  \\\n",
       "0     0.0             0.0     0.0      0.0  ...                        0.0   \n",
       "1     0.0             0.0     0.0      0.0  ...                        0.0   \n",
       "2     0.0             0.0     0.0      0.0  ...                        0.0   \n",
       "3     0.0             0.0     0.0      0.0  ...                        0.0   \n",
       "4     0.0             0.0     0.0      0.0  ...                        0.0   \n",
       "\n",
       "   Viande de porc maigre  Viande de poulet sans os  Viande de veau sans os  \\\n",
       "0                    0.0                       0.0                     0.0   \n",
       "1                    0.0                       0.0                     0.0   \n",
       "2                    0.0                       0.0                     0.0   \n",
       "3                    0.0                       0.0                     0.0   \n",
       "4                    0.0                       0.0                     0.0   \n",
       "\n",
       "   Vin blanc  Vin rouge  Yaourt  citron  Échalote  Œuf de poule  \n",
       "0        0.0        0.0     0.0     0.0       0.0           0.0  \n",
       "1        0.0        0.0     0.0     0.0       0.0           0.0  \n",
       "2        0.0        0.0     0.0     0.0       0.0           0.0  \n",
       "3        0.0        0.0     0.0     0.0       0.0           0.0  \n",
       "4        0.0        0.0     0.0     0.0       0.0           0.0  \n",
       "\n",
       "[5 rows x 213 columns]"
      ]
     },
     "execution_count": 4,
     "metadata": {},
     "output_type": "execute_result"
    }
   ],
   "source": [
    "df = df.drop([\"Code_AGB\",\"Code_CIQUAL\",\"Groupe_aliment\",\"Sous-groupe_aliment\",\"Nom_Produit_Francais\",\"LCI_Name\",\"Saisonnalite\",\"Transport_par_avion_\",\"Livraison\",\"Materiau_emballage\",\"Preparation\",\"DQR_Note_qualite_la_donnee_\",\"Score_unique_EF_\"], axis=1)\n",
    "df.head()\n"
   ]
  },
  {
   "cell_type": "code",
   "execution_count": 5,
   "id": "38687424",
   "metadata": {},
   "outputs": [
    {
     "data": {
      "text/plain": [
       "(2479, 213)"
      ]
     },
     "execution_count": 5,
     "metadata": {},
     "output_type": "execute_result"
    }
   ],
   "source": [
    "df.shape"
   ]
  },
  {
   "cell_type": "code",
   "execution_count": 6,
   "id": "84cc0dfa",
   "metadata": {},
   "outputs": [],
   "source": [
    "df.drop(df.index[1:],0,inplace=True)"
   ]
  },
  {
   "cell_type": "code",
   "execution_count": null,
   "id": "5ab10864",
   "metadata": {},
   "outputs": [],
   "source": [
    "df.drop('Autres étapes', 1, inplace=True)"
   ]
  },
  {
   "cell_type": "code",
   "execution_count": 7,
   "id": "5f183cf0",
   "metadata": {},
   "outputs": [
    {
     "data": {
      "text/plain": [
       "(1, 213)"
      ]
     },
     "execution_count": 7,
     "metadata": {},
     "output_type": "execute_result"
    }
   ],
   "source": [
    "df.shape"
   ]
  },
  {
   "cell_type": "code",
   "execution_count": 8,
   "id": "5addaffc",
   "metadata": {},
   "outputs": [
    {
     "data": {
      "text/html": [
       "<div>\n",
       "<style scoped>\n",
       "    .dataframe tbody tr th:only-of-type {\n",
       "        vertical-align: middle;\n",
       "    }\n",
       "\n",
       "    .dataframe tbody tr th {\n",
       "        vertical-align: top;\n",
       "    }\n",
       "\n",
       "    .dataframe thead th {\n",
       "        text-align: right;\n",
       "    }\n",
       "</style>\n",
       "<table border=\"1\" class=\"dataframe\">\n",
       "  <thead>\n",
       "    <tr style=\"text-align: right;\">\n",
       "      <th></th>\n",
       "      <th>Abats de bœuf</th>\n",
       "      <th>Abats de porc</th>\n",
       "      <th>Abats de poulet</th>\n",
       "      <th>Abats de veau</th>\n",
       "      <th>Abricot</th>\n",
       "      <th>Ail</th>\n",
       "      <th>Amande</th>\n",
       "      <th>Amidon de maïs</th>\n",
       "      <th>Ananas</th>\n",
       "      <th>Anchois</th>\n",
       "      <th>...</th>\n",
       "      <th>Viande de moutton sans os</th>\n",
       "      <th>Viande de porc maigre</th>\n",
       "      <th>Viande de poulet sans os</th>\n",
       "      <th>Viande de veau sans os</th>\n",
       "      <th>Vin blanc</th>\n",
       "      <th>Vin rouge</th>\n",
       "      <th>Yaourt</th>\n",
       "      <th>citron</th>\n",
       "      <th>Échalote</th>\n",
       "      <th>Œuf de poule</th>\n",
       "    </tr>\n",
       "  </thead>\n",
       "  <tbody>\n",
       "    <tr>\n",
       "      <th>0</th>\n",
       "      <td>0.0</td>\n",
       "      <td>0.0</td>\n",
       "      <td>0.0</td>\n",
       "      <td>0.0</td>\n",
       "      <td>0.0</td>\n",
       "      <td>0.0</td>\n",
       "      <td>0.0</td>\n",
       "      <td>0.0</td>\n",
       "      <td>0.0</td>\n",
       "      <td>0.0</td>\n",
       "      <td>...</td>\n",
       "      <td>0.0</td>\n",
       "      <td>0.0</td>\n",
       "      <td>0.0</td>\n",
       "      <td>0.0</td>\n",
       "      <td>0.0</td>\n",
       "      <td>0.0</td>\n",
       "      <td>0.0</td>\n",
       "      <td>0.0</td>\n",
       "      <td>0.0</td>\n",
       "      <td>0.0</td>\n",
       "    </tr>\n",
       "  </tbody>\n",
       "</table>\n",
       "<p>1 rows × 213 columns</p>\n",
       "</div>"
      ],
      "text/plain": [
       "   Abats de bœuf  Abats de porc  Abats de poulet  Abats de veau  Abricot  Ail  \\\n",
       "0            0.0            0.0              0.0            0.0      0.0  0.0   \n",
       "\n",
       "   Amande  Amidon de maïs  Ananas  Anchois  ...  Viande de moutton sans os  \\\n",
       "0     0.0             0.0     0.0      0.0  ...                        0.0   \n",
       "\n",
       "   Viande de porc maigre  Viande de poulet sans os  Viande de veau sans os  \\\n",
       "0                    0.0                       0.0                     0.0   \n",
       "\n",
       "   Vin blanc  Vin rouge  Yaourt  citron  Échalote  Œuf de poule  \n",
       "0        0.0        0.0     0.0     0.0       0.0           0.0  \n",
       "\n",
       "[1 rows x 213 columns]"
      ]
     },
     "execution_count": 8,
     "metadata": {},
     "output_type": "execute_result"
    }
   ],
   "source": [
    "df.head()"
   ]
  },
  {
   "cell_type": "code",
   "execution_count": 9,
   "id": "5c8c3bd3",
   "metadata": {},
   "outputs": [
    {
     "data": {
      "text/plain": [
       "Index(['Abats de bœuf', 'Abats de porc', 'Abats de poulet', 'Abats de veau',\n",
       "       'Abricot', 'Ail', 'Amande', 'Amidon de maïs', 'Ananas', 'Anchois',\n",
       "       ...\n",
       "       'Viande de moutton sans os', 'Viande de porc maigre',\n",
       "       'Viande de poulet sans os', 'Viande de veau sans os', 'Vin blanc',\n",
       "       'Vin rouge', 'Yaourt', 'citron', 'Échalote', 'Œuf de poule'],\n",
       "      dtype='object', length=213)"
      ]
     },
     "execution_count": 9,
     "metadata": {},
     "output_type": "execute_result"
    }
   ],
   "source": [
    "df.columns"
   ]
  },
  {
   "cell_type": "code",
   "execution_count": 10,
   "id": "876abad6",
   "metadata": {},
   "outputs": [
    {
     "name": "stdout",
     "output_type": "stream",
     "text": [
      "['Abats de bœuf', 'Abats de porc', 'Abats de poulet', 'Abats de veau', 'Abricot', 'Ail', 'Amande', 'Amidon de maïs', 'Ananas', 'Anchois', 'Anchois commun', 'Asperges', 'Aubergine', 'Autres étapes', 'Avocat', 'Avoine', 'Baie', 'Basilic', 'Beurre', 'Bière', \"Blanc d'oeuf\", 'Blé dur', \"Boisson à base d'avoine\", 'Boisson à base de soja', 'Bouillon', 'Brocoli', 'Bœuf haché', 'Cacahuète', 'Cacao', 'Café', 'Calamar', 'Camembert', 'Cannelle ', 'Carotte', 'Cassonade', 'Cerises', 'Champignon', 'Chicorée', 'Chicorée rouge', 'Chocolat au lait', 'Chocolat noir', 'Chou blanc', 'Chou vert', 'Choucroute', 'Choufleur', 'Châtaigne', 'Ciboulette ou oignon de printemps', 'Clous de girofle', 'Comté', 'Concentré de tomates 30° Brix', 'Concombre', 'Congre', 'Coquille Saint-Jacques', 'Coriandre', 'Courgette', 'Cresson de jardin', 'Crevette', 'Crème', 'Céleri', 'Céleri-rave', 'Eau de Vie', 'Emmental', 'Endive', \"Endive d'hiver\", 'Epinard', 'Escargot', 'Estragon', 'Farine de blé', 'Farine de riz', 'Farine de sarrasin', 'Farine de seigle', 'Fenouil', 'Fond de veau pour la sauce et la cuisson', 'Fraise', 'Framboises', 'Frites', 'Fromage', 'Fromage de Cheddar', 'Fromage fondu', 'Fromage frais crémeux', 'Fromage mozzarella', 'Fromage à pâte dure', 'Fructose', 'Fruit de mer', 'Fruits confits', 'Fèves', 'Gingembre', 'Grain de maïs', 'Grain de maïs séché', 'Graine de lin', 'Graine de soja', 'Graine de sésame', 'Graines de pavot', 'Graines de tournesol', 'Graisse de porc', 'Graisse végétale (type margarine)', 'Grenade', 'Grondin rouge', 'Groseille', 'Gruyère', 'Haricot', 'Haricot mungo', 'Haricot rouge', 'Haricot vert', 'Herbes de Provence', 'Homard de Norvège', 'Huil de lin', \"Huile combinée (mélange d'huile d'olive et d'huile de graines)\", \"Huile d'arachide\", \"Huile d'olive\", 'Huile de colza', 'Huile de palme', 'Huile de poisson', 'Huile de soja', 'Huile de tournesol', 'Jambon cuit', \"Jaune d'œuf\", 'Jus de citron', 'Jus de fruits mélangé', 'Lait', 'Lait concentré', 'Lait de coco ou crème de coco', 'Lait demi-écremé', 'Lait écrémé', 'Lentilles', 'Levure', \"Lieu ou colin d'Alaska\", 'Lotte ', 'Léthicine de soja', 'Manioc', 'Menthe', 'Merguez', 'Miel', 'Millet', 'Morue', 'Moule', 'Moutarde', 'Mélange de chicorée et de café', 'Mélange de céréales et légumineuses', 'Navet', 'Noix', 'Noix de cajou', 'Noix de coco', 'Noix de muscade', 'Oignons', 'Olives', 'Omelette', 'Orange', 'Origan', 'Pain perdu', 'Pain pour hamburger/hot-dog', 'Pamplemousse/pomelos ', 'Parmesan', 'Patate douce', 'Persil', 'Petits pois', 'Pignon de pin', 'Piment', 'Poire', 'Poireau', 'Pois chiches', 'Poisson Saint-Pierre', 'Poivre', 'Pomme', 'Pomme de table', 'Pommes de terre', 'Potiron', 'Poudre de cacao', 'Prune', 'Purée de pomme de terre', 'Pâtes', 'Pêche', 'Raisin', 'Raisin de table', 'Rascasse', 'Reblochon', 'Riz non décortiqué', 'Romarin', 'Roquefort', 'Safran', 'Salade', 'Salade verte', 'Sarrasin', 'Sauce au curry', 'Sauce de fromage', 'Sauce soja', 'Saucisses sèches', 'Saumon', 'Sel', 'Sirop', 'Sole au citron', 'Son de blé', 'Sucre blanc', 'Thon', 'Thym', 'Thé', 'Tomate', 'Tomme', 'Vanille', 'Viande', 'Viande avec os', \"Viande d'agneau sans os\", 'Viande de bœuf sans os', 'Viande de moutton sans os', 'Viande de porc maigre', 'Viande de poulet sans os', 'Viande de veau sans os', 'Vin blanc', 'Vin rouge', 'Yaourt', 'citron', 'Échalote', 'Œuf de poule']\n",
      "213\n"
     ]
    }
   ],
   "source": [
    "clear_liste = df.columns.tolist()\n",
    "print(clear_liste)\n",
    "print(len(clear_liste))"
   ]
  },
  {
   "cell_type": "code",
   "execution_count": 11,
   "id": "2b9716f6",
   "metadata": {},
   "outputs": [],
   "source": [
    "binary_list = df.values.tolist()"
   ]
  },
  {
   "cell_type": "code",
   "execution_count": 12,
   "id": "c476b180",
   "metadata": {},
   "outputs": [
    {
     "name": "stdout",
     "output_type": "stream",
     "text": [
      "[[0.0, 0.0, 0.0, 0.0, 0.0, 0.0, 0.0, 0.0, 0.0, 0.0, 0.0, 0.0, 0.0, 0.0, 0.0, 0.0, 0.0, 0.0, 0.0, 0.0, 0.0, 0.0, 0.0, 0.0, 0.0, 0.0, 0.0, 0.0, 0.0, 0.0, 0.0, 0.0, 0.0, 0.0, 0.0, 0.0, 0.0, 0.0, 0.0, 0.0, 0.0, 0.0, 0.0, 0.0, 0.0, 0.0, 0.0, 0.0, 0.0, 0.0, 0.0, 0.0, 0.0, 0.0, 0.0, 0.0, 0.0, 0.0, 0.0, 0.0, 0.0, 0.0, 0.0, 0.0, 0.0, 0.0, 0.0, 0.0, 0.0, 0.0, 0.0, 0.0, 0.0, 0.0, 0.0, 0.0, 0.0, 0.0, 0.0, 0.0, 0.0, 0.0, 0.0, 0.0, 0.0, 0.0, 0.0, 0.0, 0.0, 0.0, 0.0, 0.0, 0.0, 0.0, 0.0, 0.0, 0.0, 0.0, 0.0, 0.0, 0.0, 0.0, 0.0, 0.0, 0.0, 0.0, 0.0, 0.0, 0.0, 0.0, 0.0, 0.0, 0.0, 0.0, 0.0, 0.0, 0.0, 0.0, 0.0, 0.0, 0.0, 0.0, 0.0, 0.0, 0.0, 0.0, 0.0, 0.0, 0.0, 0.0, 0.0, 0.0, 0.0, 0.0, 0.0, 0.0, 0.0, 0.0, 0.0, 0.0, 0.0, 0.0, 0.0, 0.0, 0.0, 0.0, 0.0, 0.0, 0.0, 0.0, 0.0, 0.0, 0.0, 0.0, 0.0, 0.0, 0.0, 0.0, 0.0, 0.0, 0.0, 0.0, 0.0, 0.0, 0.0, 0.0, 0.0, 0.0, 0.0, 0.0, 0.0, 0.0, 0.0, 0.0, 0.0, 0.0, 0.0, 0.0, 0.0, 0.0, 0.0, 0.0, 0.0, 0.0, 0.0, 0.0, 0.0, 0.0, 0.0, 0.0, 0.0, 0.0, 0.0, 0.0, 0.0, 0.0, 0.0, 0.0, 0.0, 0.0, 0.0, 0.0, 0.0, 0.0, 0.0, 0.0, 0.0, 0.0, 0.0, 0.0, 0.0, 0.0, 0.0]]\n"
     ]
    }
   ],
   "source": [
    "print(binary_list)"
   ]
  },
  {
   "cell_type": "code",
   "execution_count": 13,
   "id": "4f75b3da",
   "metadata": {},
   "outputs": [],
   "source": [
    "binary_list = [0.0, 0.0, 0.0, 0.0, 0.0, 0.0, 0.0, 0.0, 0.0, 0.0, 0.0, 0.0, 0.0, 0.0, 0.0, 0.0, 0.0, 0.0, 0.0, 0.0, 0.0, 0.0, 0.0, 0.0, 0.0, 0.0, 0.0, 0.0, 0.0, 0.0, 0.0, 0.0, 0.0, 0.0, 0.0, 0.0, 0.0, 0.0, 0.0, 0.0, 0.0, 0.0, 0.0, 0.0, 0.0, 0.0, 0.0, 0.0, 0.0, 0.0, 0.0, 0.0, 0.0, 0.0, 0.0, 0.0, 0.0, 0.0, 0.0, 0.0, 0.0, 0.0, 0.0, 0.0, 0.0, 0.0, 0.0, 0.0, 0.0, 0.0, 0.0, 0.0, 0.0, 0.0, 0.0, 0.0, 0.0, 0.0, 0.0, 0.0, 0.0, 0.0, 0.0, 0.0, 0.0, 0.0, 0.0, 0.0, 0.0, 0.0, 0.0, 0.0, 0.0, 0.0, 0.0, 0.0, 0.0, 0.0, 0.0, 0.0, 0.0, 0.0, 0.0, 0.0, 0.0, 0.0, 0.0, 0.0, 0.0, 0.0, 0.0, 0.0, 0.0, 0.0, 0.0, 0.0, 0.0, 0.0, 0.0, 0.0, 0.0, 0.0, 0.0, 0.0, 0.0, 0.0, 0.0, 0.0, 0.0, 0.0, 0.0, 0.0, 0.0, 0.0, 0.0, 0.0, 0.0, 0.0, 0.0, 0.0, 0.0, 0.0, 0.0, 0.0, 0.0, 0.0, 0.0, 0.0, 0.0, 0.0, 0.0, 0.0, 0.0, 0.0, 0.0, 0.0, 0.0, 0.0, 0.0, 0.0, 0.0, 0.0, 0.0, 0.0, 0.0, 0.0, 0.0, 0.0, 0.0, 0.0, 0.0, 0.0, 0.0, 0.0, 0.0, 0.0, 0.0, 0.0, 0.0, 0.0, 0.0, 0.0, 0.0, 0.0, 0.0, 0.0, 0.0, 0.0, 0.0, 0.0, 0.0, 0.0, 0.0, 0.0, 0.0, 0.0, 0.0, 0.0, 0.0, 0.0, 0.0, 0.0, 0.0, 0.0, 0.0, 0.0, 0.0, 0.0, 0.0, 0.0, 0.0, 0.0, 0.0]"
   ]
  },
  {
   "cell_type": "code",
   "execution_count": 14,
   "id": "923e1225",
   "metadata": {},
   "outputs": [],
   "source": [
    "binary_list = [int(binary_list) for binary_list in binary_list]"
   ]
  },
  {
   "cell_type": "code",
   "execution_count": 15,
   "id": "80e8f4de",
   "metadata": {},
   "outputs": [
    {
     "name": "stdout",
     "output_type": "stream",
     "text": [
      "[0, 0, 0, 0, 0, 0, 0, 0, 0, 0, 0, 0, 0, 0, 0, 0, 0, 0, 0, 0, 0, 0, 0, 0, 0, 0, 0, 0, 0, 0, 0, 0, 0, 0, 0, 0, 0, 0, 0, 0, 0, 0, 0, 0, 0, 0, 0, 0, 0, 0, 0, 0, 0, 0, 0, 0, 0, 0, 0, 0, 0, 0, 0, 0, 0, 0, 0, 0, 0, 0, 0, 0, 0, 0, 0, 0, 0, 0, 0, 0, 0, 0, 0, 0, 0, 0, 0, 0, 0, 0, 0, 0, 0, 0, 0, 0, 0, 0, 0, 0, 0, 0, 0, 0, 0, 0, 0, 0, 0, 0, 0, 0, 0, 0, 0, 0, 0, 0, 0, 0, 0, 0, 0, 0, 0, 0, 0, 0, 0, 0, 0, 0, 0, 0, 0, 0, 0, 0, 0, 0, 0, 0, 0, 0, 0, 0, 0, 0, 0, 0, 0, 0, 0, 0, 0, 0, 0, 0, 0, 0, 0, 0, 0, 0, 0, 0, 0, 0, 0, 0, 0, 0, 0, 0, 0, 0, 0, 0, 0, 0, 0, 0, 0, 0, 0, 0, 0, 0, 0, 0, 0, 0, 0, 0, 0, 0, 0, 0, 0, 0, 0, 0, 0, 0, 0, 0, 0, 0, 0, 0, 0, 0, 0]\n"
     ]
    }
   ],
   "source": [
    "print(binary_list)"
   ]
  },
  {
   "cell_type": "code",
   "execution_count": 39,
   "metadata": {},
   "outputs": [],
   "source": [
    "df.to_csv('liste_ingredient.csv')"
   ]
  },
  {
   "cell_type": "code",
   "execution_count": 16,
   "id": "a67a725f",
   "metadata": {},
   "outputs": [
    {
     "data": {
      "text/plain": [
       "'Œuf de poule'"
      ]
     },
     "execution_count": 16,
     "metadata": {},
     "output_type": "execute_result"
    }
   ],
   "source": [
    "clear_liste[-1]"
   ]
  },
  {
   "cell_type": "code",
   "execution_count": 17,
   "id": "d661431f",
   "metadata": {},
   "outputs": [
    {
     "data": {
      "text/plain": [
       "0"
      ]
     },
     "execution_count": 17,
     "metadata": {},
     "output_type": "execute_result"
    }
   ],
   "source": [
    "binary_list[5]"
   ]
  },
  {
   "cell_type": "code",
   "execution_count": 18,
   "id": "c47e3943",
   "metadata": {},
   "outputs": [
    {
     "data": {
      "text/plain": [
       "212"
      ]
     },
     "execution_count": 18,
     "metadata": {},
     "output_type": "execute_result"
    }
   ],
   "source": [
    "clear_liste.index('Œuf de poule')"
   ]
  },
  {
   "cell_type": "code",
   "execution_count": 19,
   "id": "e39a1b47",
   "metadata": {},
   "outputs": [
    {
     "data": {
      "text/plain": [
       "5"
      ]
     },
     "execution_count": 19,
     "metadata": {},
     "output_type": "execute_result"
    }
   ],
   "source": [
    "clear_liste.index(\"Ail\")"
   ]
  },
  {
   "cell_type": "code",
   "execution_count": 20,
   "id": "dd69ab82",
   "metadata": {},
   "outputs": [],
   "source": [
    "def liste(x):\n",
    "    y = clear_liste.index(x)\n",
    "    #z = binary_list[y]\n",
    "    while y <= clear_liste.index('Œuf de poule'):\n",
    "        if x == clear_liste[y]:\n",
    "            binary_list[y] = 1\n",
    "            break\n",
    "        else:\n",
    "            binary_list[y] = 0\n",
    "    print (\"{} has been selected\".format(x)) "
   ]
  },
  {
   "cell_type": "code",
   "execution_count": 21,
   "id": "ab7ff97a",
   "metadata": {},
   "outputs": [
    {
     "name": "stdout",
     "output_type": "stream",
     "text": [
      "Ail has been selected\n"
     ]
    }
   ],
   "source": [
    "liste(\"Ail\")"
   ]
  }
 ],
 "metadata": {
  "interpreter": {
   "hash": "bf00618e8c6f546625f4a2c090ffbae79181841d7c85bf7820449e71020fcec6"
  },
  "kernelspec": {
   "display_name": "Python 3",
   "language": "python",
   "name": "python3"
  },
  "language_info": {
   "codemirror_mode": {
    "name": "ipython",
    "version": 3
   },
   "file_extension": ".py",
   "mimetype": "text/x-python",
   "name": "python",
   "nbconvert_exporter": "python",
   "pygments_lexer": "ipython3",
   "version": "3.8.5"
  }
 },
 "nbformat": 4,
 "nbformat_minor": 5
}

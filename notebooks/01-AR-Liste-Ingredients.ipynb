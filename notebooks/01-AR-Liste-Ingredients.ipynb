{
 "cells": [
  {
   "cell_type": "code",
   "execution_count": 24,
   "id": "966018d3",
   "metadata": {},
   "outputs": [],
   "source": [
    "import pandas as pd"
   ]
  },
  {
   "cell_type": "code",
   "execution_count": 25,
   "id": "e7248427",
   "metadata": {},
   "outputs": [
    {
     "data": {
      "text/plain": [
       "Index(['Code_AGB', 'Code_CIQUAL', 'Groupe_aliment', 'Sous-groupe_aliment',\n",
       "       'Nom_Produit_Francais', 'LCI_Name', 'Saisonnalite',\n",
       "       'Transport_par_avion_', 'Livraison', 'Materiau_emballage',\n",
       "       ...\n",
       "       'Viande de moutton sans os', 'Viande de porc maigre',\n",
       "       'Viande de poulet sans os', 'Viande de veau sans os', 'Vin blanc',\n",
       "       'Vin rouge', 'Yaourt', 'citron', 'Échalote', 'Œuf de poule'],\n",
       "      dtype='object', length=226)"
      ]
     },
     "execution_count": 25,
     "metadata": {},
     "output_type": "execute_result"
    }
   ],
   "source": [
    "df = pd.read_csv(\"/Users/reffet/Desktop/Jedha_Formation/Projets/agribalyse/data/interim/Agribalyse_Detail ingredient.csv\")\n",
    "df.columns\n"
   ]
  },
  {
   "cell_type": "code",
   "execution_count": 26,
   "id": "e228c789",
   "metadata": {},
   "outputs": [
    {
     "data": {
      "text/html": [
       "<div>\n",
       "<style scoped>\n",
       "    .dataframe tbody tr th:only-of-type {\n",
       "        vertical-align: middle;\n",
       "    }\n",
       "\n",
       "    .dataframe tbody tr th {\n",
       "        vertical-align: top;\n",
       "    }\n",
       "\n",
       "    .dataframe thead th {\n",
       "        text-align: right;\n",
       "    }\n",
       "</style>\n",
       "<table border=\"1\" class=\"dataframe\">\n",
       "  <thead>\n",
       "    <tr style=\"text-align: right;\">\n",
       "      <th></th>\n",
       "      <th>Abats de bœuf</th>\n",
       "      <th>Abats de porc</th>\n",
       "      <th>Abats de poulet</th>\n",
       "      <th>Abats de veau</th>\n",
       "      <th>Abricot</th>\n",
       "      <th>Ail</th>\n",
       "      <th>Amande</th>\n",
       "      <th>Amidon de maïs</th>\n",
       "      <th>Ananas</th>\n",
       "      <th>Anchois</th>\n",
       "      <th>...</th>\n",
       "      <th>Viande de moutton sans os</th>\n",
       "      <th>Viande de porc maigre</th>\n",
       "      <th>Viande de poulet sans os</th>\n",
       "      <th>Viande de veau sans os</th>\n",
       "      <th>Vin blanc</th>\n",
       "      <th>Vin rouge</th>\n",
       "      <th>Yaourt</th>\n",
       "      <th>citron</th>\n",
       "      <th>Échalote</th>\n",
       "      <th>Œuf de poule</th>\n",
       "    </tr>\n",
       "  </thead>\n",
       "  <tbody>\n",
       "    <tr>\n",
       "      <th>0</th>\n",
       "      <td>0.0</td>\n",
       "      <td>0.0</td>\n",
       "      <td>0.0</td>\n",
       "      <td>0.0</td>\n",
       "      <td>0.0</td>\n",
       "      <td>0.0</td>\n",
       "      <td>0.0</td>\n",
       "      <td>0.0</td>\n",
       "      <td>0.0</td>\n",
       "      <td>0.0</td>\n",
       "      <td>...</td>\n",
       "      <td>0.0</td>\n",
       "      <td>0.0</td>\n",
       "      <td>0.0</td>\n",
       "      <td>0.0</td>\n",
       "      <td>0.0</td>\n",
       "      <td>0.0</td>\n",
       "      <td>0.0</td>\n",
       "      <td>0.0</td>\n",
       "      <td>0.0</td>\n",
       "      <td>0.0</td>\n",
       "    </tr>\n",
       "    <tr>\n",
       "      <th>1</th>\n",
       "      <td>0.0</td>\n",
       "      <td>0.0</td>\n",
       "      <td>0.0</td>\n",
       "      <td>0.0</td>\n",
       "      <td>0.0</td>\n",
       "      <td>0.0</td>\n",
       "      <td>0.0</td>\n",
       "      <td>0.0</td>\n",
       "      <td>0.0</td>\n",
       "      <td>0.0</td>\n",
       "      <td>...</td>\n",
       "      <td>0.0</td>\n",
       "      <td>0.0</td>\n",
       "      <td>0.0</td>\n",
       "      <td>0.0</td>\n",
       "      <td>0.0</td>\n",
       "      <td>0.0</td>\n",
       "      <td>0.0</td>\n",
       "      <td>0.0</td>\n",
       "      <td>0.0</td>\n",
       "      <td>0.0</td>\n",
       "    </tr>\n",
       "    <tr>\n",
       "      <th>2</th>\n",
       "      <td>0.0</td>\n",
       "      <td>0.0</td>\n",
       "      <td>0.0</td>\n",
       "      <td>0.0</td>\n",
       "      <td>0.0</td>\n",
       "      <td>0.0</td>\n",
       "      <td>0.0</td>\n",
       "      <td>0.0</td>\n",
       "      <td>0.0</td>\n",
       "      <td>0.0</td>\n",
       "      <td>...</td>\n",
       "      <td>0.0</td>\n",
       "      <td>0.0</td>\n",
       "      <td>0.0</td>\n",
       "      <td>0.0</td>\n",
       "      <td>0.0</td>\n",
       "      <td>0.0</td>\n",
       "      <td>0.0</td>\n",
       "      <td>0.0</td>\n",
       "      <td>0.0</td>\n",
       "      <td>0.0</td>\n",
       "    </tr>\n",
       "    <tr>\n",
       "      <th>3</th>\n",
       "      <td>0.0</td>\n",
       "      <td>0.0</td>\n",
       "      <td>0.0</td>\n",
       "      <td>0.0</td>\n",
       "      <td>0.0</td>\n",
       "      <td>0.0</td>\n",
       "      <td>0.0</td>\n",
       "      <td>0.0</td>\n",
       "      <td>0.0</td>\n",
       "      <td>0.0</td>\n",
       "      <td>...</td>\n",
       "      <td>0.0</td>\n",
       "      <td>0.0</td>\n",
       "      <td>0.0</td>\n",
       "      <td>0.0</td>\n",
       "      <td>0.0</td>\n",
       "      <td>0.0</td>\n",
       "      <td>0.0</td>\n",
       "      <td>0.0</td>\n",
       "      <td>0.0</td>\n",
       "      <td>0.0</td>\n",
       "    </tr>\n",
       "    <tr>\n",
       "      <th>4</th>\n",
       "      <td>0.0</td>\n",
       "      <td>0.0</td>\n",
       "      <td>0.0</td>\n",
       "      <td>0.0</td>\n",
       "      <td>0.0</td>\n",
       "      <td>0.0</td>\n",
       "      <td>0.0</td>\n",
       "      <td>0.0</td>\n",
       "      <td>0.0</td>\n",
       "      <td>0.0</td>\n",
       "      <td>...</td>\n",
       "      <td>0.0</td>\n",
       "      <td>0.0</td>\n",
       "      <td>0.0</td>\n",
       "      <td>0.0</td>\n",
       "      <td>0.0</td>\n",
       "      <td>0.0</td>\n",
       "      <td>0.0</td>\n",
       "      <td>0.0</td>\n",
       "      <td>0.0</td>\n",
       "      <td>0.0</td>\n",
       "    </tr>\n",
       "  </tbody>\n",
       "</table>\n",
       "<p>5 rows × 213 columns</p>\n",
       "</div>"
      ],
      "text/plain": [
       "   Abats de bœuf  Abats de porc  Abats de poulet  Abats de veau  Abricot  Ail  \\\n",
       "0            0.0            0.0              0.0            0.0      0.0  0.0   \n",
       "1            0.0            0.0              0.0            0.0      0.0  0.0   \n",
       "2            0.0            0.0              0.0            0.0      0.0  0.0   \n",
       "3            0.0            0.0              0.0            0.0      0.0  0.0   \n",
       "4            0.0            0.0              0.0            0.0      0.0  0.0   \n",
       "\n",
       "   Amande  Amidon de maïs  Ananas  Anchois  ...  Viande de moutton sans os  \\\n",
       "0     0.0             0.0     0.0      0.0  ...                        0.0   \n",
       "1     0.0             0.0     0.0      0.0  ...                        0.0   \n",
       "2     0.0             0.0     0.0      0.0  ...                        0.0   \n",
       "3     0.0             0.0     0.0      0.0  ...                        0.0   \n",
       "4     0.0             0.0     0.0      0.0  ...                        0.0   \n",
       "\n",
       "   Viande de porc maigre  Viande de poulet sans os  Viande de veau sans os  \\\n",
       "0                    0.0                       0.0                     0.0   \n",
       "1                    0.0                       0.0                     0.0   \n",
       "2                    0.0                       0.0                     0.0   \n",
       "3                    0.0                       0.0                     0.0   \n",
       "4                    0.0                       0.0                     0.0   \n",
       "\n",
       "   Vin blanc  Vin rouge  Yaourt  citron  Échalote  Œuf de poule  \n",
       "0        0.0        0.0     0.0     0.0       0.0           0.0  \n",
       "1        0.0        0.0     0.0     0.0       0.0           0.0  \n",
       "2        0.0        0.0     0.0     0.0       0.0           0.0  \n",
       "3        0.0        0.0     0.0     0.0       0.0           0.0  \n",
       "4        0.0        0.0     0.0     0.0       0.0           0.0  \n",
       "\n",
       "[5 rows x 213 columns]"
      ]
     },
     "execution_count": 26,
     "metadata": {},
     "output_type": "execute_result"
    }
   ],
   "source": [
    "df = df.drop([\"Code_AGB\",\"Code_CIQUAL\",\"Groupe_aliment\",\"Sous-groupe_aliment\",\"Nom_Produit_Francais\",\"LCI_Name\",\"Saisonnalite\",\"Transport_par_avion_\",\"Livraison\",\"Materiau_emballage\",\"Preparation\",\"DQR_Note_qualite_la_donnee_\",\"Score_unique_EF_\"], axis=1)\n",
    "df.head()\n"
   ]
  },
  {
   "cell_type": "code",
   "execution_count": 27,
   "id": "38687424",
   "metadata": {},
   "outputs": [
    {
     "data": {
      "text/plain": [
       "(2479, 213)"
      ]
     },
     "execution_count": 27,
     "metadata": {},
     "output_type": "execute_result"
    }
   ],
   "source": [
    "df.shape"
   ]
  },
  {
   "cell_type": "code",
   "execution_count": 28,
   "id": "84cc0dfa",
   "metadata": {},
   "outputs": [],
   "source": [
    "df.drop(df.index[1:],0,inplace=True)"
   ]
  },
  {
   "cell_type": "code",
   "execution_count": 29,
   "id": "5f183cf0",
   "metadata": {},
   "outputs": [
    {
     "data": {
      "text/plain": [
       "(1, 213)"
      ]
     },
     "execution_count": 29,
     "metadata": {},
     "output_type": "execute_result"
    }
   ],
   "source": [
    "df.shape"
   ]
  },
  {
   "cell_type": "code",
   "execution_count": 30,
   "id": "5addaffc",
   "metadata": {},
   "outputs": [
    {
     "data": {
      "text/html": [
       "<div>\n",
       "<style scoped>\n",
       "    .dataframe tbody tr th:only-of-type {\n",
       "        vertical-align: middle;\n",
       "    }\n",
       "\n",
       "    .dataframe tbody tr th {\n",
       "        vertical-align: top;\n",
       "    }\n",
       "\n",
       "    .dataframe thead th {\n",
       "        text-align: right;\n",
       "    }\n",
       "</style>\n",
       "<table border=\"1\" class=\"dataframe\">\n",
       "  <thead>\n",
       "    <tr style=\"text-align: right;\">\n",
       "      <th></th>\n",
       "      <th>Abats de bœuf</th>\n",
       "      <th>Abats de porc</th>\n",
       "      <th>Abats de poulet</th>\n",
       "      <th>Abats de veau</th>\n",
       "      <th>Abricot</th>\n",
       "      <th>Ail</th>\n",
       "      <th>Amande</th>\n",
       "      <th>Amidon de maïs</th>\n",
       "      <th>Ananas</th>\n",
       "      <th>Anchois</th>\n",
       "      <th>...</th>\n",
       "      <th>Viande de moutton sans os</th>\n",
       "      <th>Viande de porc maigre</th>\n",
       "      <th>Viande de poulet sans os</th>\n",
       "      <th>Viande de veau sans os</th>\n",
       "      <th>Vin blanc</th>\n",
       "      <th>Vin rouge</th>\n",
       "      <th>Yaourt</th>\n",
       "      <th>citron</th>\n",
       "      <th>Échalote</th>\n",
       "      <th>Œuf de poule</th>\n",
       "    </tr>\n",
       "  </thead>\n",
       "  <tbody>\n",
       "    <tr>\n",
       "      <th>0</th>\n",
       "      <td>0.0</td>\n",
       "      <td>0.0</td>\n",
       "      <td>0.0</td>\n",
       "      <td>0.0</td>\n",
       "      <td>0.0</td>\n",
       "      <td>0.0</td>\n",
       "      <td>0.0</td>\n",
       "      <td>0.0</td>\n",
       "      <td>0.0</td>\n",
       "      <td>0.0</td>\n",
       "      <td>...</td>\n",
       "      <td>0.0</td>\n",
       "      <td>0.0</td>\n",
       "      <td>0.0</td>\n",
       "      <td>0.0</td>\n",
       "      <td>0.0</td>\n",
       "      <td>0.0</td>\n",
       "      <td>0.0</td>\n",
       "      <td>0.0</td>\n",
       "      <td>0.0</td>\n",
       "      <td>0.0</td>\n",
       "    </tr>\n",
       "  </tbody>\n",
       "</table>\n",
       "<p>1 rows × 213 columns</p>\n",
       "</div>"
      ],
      "text/plain": [
       "   Abats de bœuf  Abats de porc  Abats de poulet  Abats de veau  Abricot  Ail  \\\n",
       "0            0.0            0.0              0.0            0.0      0.0  0.0   \n",
       "\n",
       "   Amande  Amidon de maïs  Ananas  Anchois  ...  Viande de moutton sans os  \\\n",
       "0     0.0             0.0     0.0      0.0  ...                        0.0   \n",
       "\n",
       "   Viande de porc maigre  Viande de poulet sans os  Viande de veau sans os  \\\n",
       "0                    0.0                       0.0                     0.0   \n",
       "\n",
       "   Vin blanc  Vin rouge  Yaourt  citron  Échalote  Œuf de poule  \n",
       "0        0.0        0.0     0.0     0.0       0.0           0.0  \n",
       "\n",
       "[1 rows x 213 columns]"
      ]
     },
     "execution_count": 30,
     "metadata": {},
     "output_type": "execute_result"
    }
   ],
   "source": [
    "df.head()"
   ]
  },
  {
   "cell_type": "code",
   "execution_count": 33,
   "id": "2b9716f6",
   "metadata": {},
   "outputs": [],
   "source": [
    "clear_list_ingredient = df.values.tolist()"
   ]
  },
  {
   "cell_type": "code",
   "execution_count": 37,
   "id": "c476b180",
   "metadata": {},
   "outputs": [
    {
     "name": "stdout",
     "output_type": "stream",
     "text": [
      "[[0.0, 0.0, 0.0, 0.0, 0.0, 0.0, 0.0, 0.0, 0.0, 0.0, 0.0, 0.0, 0.0, 0.0, 0.0, 0.0, 0.0, 0.0, 0.0, 0.0, 0.0, 0.0, 0.0, 0.0, 0.0, 0.0, 0.0, 0.0, 0.0, 0.0, 0.0, 0.0, 0.0, 0.0, 0.0, 0.0, 0.0, 0.0, 0.0, 0.0, 0.0, 0.0, 0.0, 0.0, 0.0, 0.0, 0.0, 0.0, 0.0, 0.0, 0.0, 0.0, 0.0, 0.0, 0.0, 0.0, 0.0, 0.0, 0.0, 0.0, 0.0, 0.0, 0.0, 0.0, 0.0, 0.0, 0.0, 0.0, 0.0, 0.0, 0.0, 0.0, 0.0, 0.0, 0.0, 0.0, 0.0, 0.0, 0.0, 0.0, 0.0, 0.0, 0.0, 0.0, 0.0, 0.0, 0.0, 0.0, 0.0, 0.0, 0.0, 0.0, 0.0, 0.0, 0.0, 0.0, 0.0, 0.0, 0.0, 0.0, 0.0, 0.0, 0.0, 0.0, 0.0, 0.0, 0.0, 0.0, 0.0, 0.0, 0.0, 0.0, 0.0, 0.0, 0.0, 0.0, 0.0, 0.0, 0.0, 0.0, 0.0, 0.0, 0.0, 0.0, 0.0, 0.0, 0.0, 0.0, 0.0, 0.0, 0.0, 0.0, 0.0, 0.0, 0.0, 0.0, 0.0, 0.0, 0.0, 0.0, 0.0, 0.0, 0.0, 0.0, 0.0, 0.0, 0.0, 0.0, 0.0, 0.0, 0.0, 0.0, 0.0, 0.0, 0.0, 0.0, 0.0, 0.0, 0.0, 0.0, 0.0, 0.0, 0.0, 0.0, 0.0, 0.0, 0.0, 0.0, 0.0, 0.0, 0.0, 0.0, 0.0, 0.0, 0.0, 0.0, 0.0, 0.0, 0.0, 0.0, 0.0, 0.0, 0.0, 0.0, 0.0, 0.0, 0.0, 0.0, 0.0, 0.0, 0.0, 0.0, 0.0, 0.0, 0.0, 0.0, 0.0, 0.0, 0.0, 0.0, 0.0, 0.0, 0.0, 0.0, 0.0, 0.0, 0.0, 0.0, 0.0, 0.0, 0.0, 0.0, 0.0]]\n"
     ]
    }
   ],
   "source": [
    "print(clear_list_ingredient)"
   ]
  },
  {
   "cell_type": "code",
   "execution_count": 39,
   "id": "03649a11",
   "metadata": {},
   "outputs": [],
   "source": [
    "df.to_csv('liste_ingredient.csv')"
   ]
  },
  {
   "cell_type": "code",
   "execution_count": null,
   "id": "dd69ab82",
   "metadata": {},
   "outputs": [],
   "source": []
  }
 ],
 "metadata": {
  "kernelspec": {
   "display_name": "Python 3 (ipykernel)",
   "language": "python",
   "name": "python3"
  },
  "language_info": {
   "codemirror_mode": {
    "name": "ipython",
    "version": 3
   },
   "file_extension": ".py",
   "mimetype": "text/x-python",
   "name": "python",
   "nbconvert_exporter": "python",
   "pygments_lexer": "ipython3",
   "version": "3.8.8"
  }
 },
 "nbformat": 4,
 "nbformat_minor": 5
}

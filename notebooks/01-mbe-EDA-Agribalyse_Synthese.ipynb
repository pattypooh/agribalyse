{
 "cells": [
  {
   "cell_type": "code",
   "execution_count": 1,
   "metadata": {},
   "outputs": [],
   "source": [
    "import pandas as pd\n",
    "\n",
    "import matplotlib.pyplot as plt\n",
    "import seaborn as sns"
   ]
  },
  {
   "cell_type": "code",
   "execution_count": 2,
   "metadata": {},
   "outputs": [],
   "source": [
    "df = pd.read_csv(\"Agribalyse_Synthese.csv\")"
   ]
  },
  {
   "cell_type": "code",
   "execution_count": 11,
   "metadata": {},
   "outputs": [],
   "source": [
    "#df.head(2)"
   ]
  },
  {
   "cell_type": "code",
   "execution_count": null,
   "metadata": {},
   "outputs": [],
   "source": [
    "#df.isnull().sum()"
   ]
  },
  {
   "cell_type": "code",
   "execution_count": 12,
   "metadata": {},
   "outputs": [
    {
     "data": {
      "text/plain": [
       "Index(['Code AGB', 'Code CIQUAL', 'Groupe d'aliment', 'Sous-groupe d'aliment',\n",
       "       'Nom du Produit en Français', 'LCI Name', 'Saisonnalité',\n",
       "       'Transport par avion (1 : par avion)', 'Livraison',\n",
       "       'Matériau d'emballage', 'Préparation',\n",
       "       'DQR - Note de qualité de la donnée (1 excellente ; 5 très faible)',\n",
       "       'Score unique EF (mPt/kg de produit)',\n",
       "       'Changement climatique (kg CO2 eq/kg de produit)',\n",
       "       'Appauvrissement de la couche d'ozone (E-06 kg CVC11 eq/kg de produit)',\n",
       "       'Rayonnements ionisants (kBq U-235 eq/kg de produit)',\n",
       "       'Formation photochimique d'ozone (E-03 kg NMVOC eq/kg de produit)',\n",
       "       'Particules (E-06 disease inc./kg de produit)',\n",
       "       'Acidification terrestre et eaux douces (mol H+ eq/kg de produit)',\n",
       "       'Eutrophisation terreste (mol N eq/kg de produit)',\n",
       "       'Eutrophisation eaux douces (E-03 kg P eq/kg de produit)',\n",
       "       'Eutrophisation marine (E-03 kg N eq/kg de produit)',\n",
       "       'Utilisation du sol (Pt/kg de produit)',\n",
       "       'Écotoxicité pour écosystèmes aquatiques d'eau douce (CTUe/kg de produit)',\n",
       "       'Épuisement des ressources eau (m3 depriv./kg de produit)',\n",
       "       'Épuisement des ressources énergétiques (MJ/kg de produit)',\n",
       "       'Épuisement des ressources minéraux (E-06 kg Sb eq/kg de produit)'],\n",
       "      dtype='object')"
      ]
     },
     "execution_count": 12,
     "metadata": {},
     "output_type": "execute_result"
    }
   ],
   "source": [
    "df.columns"
   ]
  },
  {
   "cell_type": "code",
   "execution_count": null,
   "metadata": {},
   "outputs": [],
   "source": [
    "#df.corr()"
   ]
  },
  {
   "cell_type": "raw",
   "metadata": {},
   "source": [
    "df['DQR - Note de qualité de la donnée (1 excellente ; 5 très faible)'].unique()\n",
    "\n",
    "Critères de qualité de la données: le système du DQR\n",
    "Sans unité, plus le score est bas plus son impact sur l'environnement est faible. Ce score unique est une moyenne pondérée des 16 indicateurs "
   ]
  },
  {
   "cell_type": "code",
   "execution_count": 3,
   "metadata": {},
   "outputs": [
    {
     "data": {
      "text/html": [
       "<div>\n",
       "<style scoped>\n",
       "    .dataframe tbody tr th:only-of-type {\n",
       "        vertical-align: middle;\n",
       "    }\n",
       "\n",
       "    .dataframe tbody tr th {\n",
       "        vertical-align: top;\n",
       "    }\n",
       "\n",
       "    .dataframe thead th {\n",
       "        text-align: right;\n",
       "    }\n",
       "</style>\n",
       "<table border=\"1\" class=\"dataframe\">\n",
       "  <thead>\n",
       "    <tr style=\"text-align: right;\">\n",
       "      <th></th>\n",
       "      <th>Groupe d'aliment</th>\n",
       "      <th>count</th>\n",
       "      <th>pourcentage</th>\n",
       "    </tr>\n",
       "  </thead>\n",
       "  <tbody>\n",
       "    <tr>\n",
       "      <th>0</th>\n",
       "      <td>viandes, œufs, poissons</td>\n",
       "      <td>636</td>\n",
       "      <td>25.66</td>\n",
       "    </tr>\n",
       "    <tr>\n",
       "      <th>1</th>\n",
       "      <td>fruits, légumes, légumineuses et oléagineux</td>\n",
       "      <td>423</td>\n",
       "      <td>17.06</td>\n",
       "    </tr>\n",
       "    <tr>\n",
       "      <th>2</th>\n",
       "      <td>produits céréaliers</td>\n",
       "      <td>375</td>\n",
       "      <td>15.13</td>\n",
       "    </tr>\n",
       "    <tr>\n",
       "      <th>3</th>\n",
       "      <td>entrées et plats composés</td>\n",
       "      <td>281</td>\n",
       "      <td>11.34</td>\n",
       "    </tr>\n",
       "    <tr>\n",
       "      <th>4</th>\n",
       "      <td>lait et produits laitiers</td>\n",
       "      <td>220</td>\n",
       "      <td>8.87</td>\n",
       "    </tr>\n",
       "    <tr>\n",
       "      <th>5</th>\n",
       "      <td>boissons</td>\n",
       "      <td>219</td>\n",
       "      <td>8.83</td>\n",
       "    </tr>\n",
       "    <tr>\n",
       "      <th>6</th>\n",
       "      <td>aides culinaires et ingrédients divers</td>\n",
       "      <td>158</td>\n",
       "      <td>6.37</td>\n",
       "    </tr>\n",
       "    <tr>\n",
       "      <th>7</th>\n",
       "      <td>matières grasses</td>\n",
       "      <td>56</td>\n",
       "      <td>2.26</td>\n",
       "    </tr>\n",
       "    <tr>\n",
       "      <th>8</th>\n",
       "      <td>produits sucrés</td>\n",
       "      <td>53</td>\n",
       "      <td>2.14</td>\n",
       "    </tr>\n",
       "    <tr>\n",
       "      <th>9</th>\n",
       "      <td>aliments infantiles</td>\n",
       "      <td>33</td>\n",
       "      <td>1.33</td>\n",
       "    </tr>\n",
       "    <tr>\n",
       "      <th>10</th>\n",
       "      <td>glaces et sorbets</td>\n",
       "      <td>25</td>\n",
       "      <td>1.01</td>\n",
       "    </tr>\n",
       "  </tbody>\n",
       "</table>\n",
       "</div>"
      ],
      "text/plain": [
       "                               Groupe d'aliment  count  pourcentage\n",
       "0                       viandes, œufs, poissons    636        25.66\n",
       "1   fruits, légumes, légumineuses et oléagineux    423        17.06\n",
       "2                           produits céréaliers    375        15.13\n",
       "3                     entrées et plats composés    281        11.34\n",
       "4                     lait et produits laitiers    220         8.87\n",
       "5                                      boissons    219         8.83\n",
       "6        aides culinaires et ingrédients divers    158         6.37\n",
       "7                              matières grasses     56         2.26\n",
       "8                               produits sucrés     53         2.14\n",
       "9                           aliments infantiles     33         1.33\n",
       "10                            glaces et sorbets     25         1.01"
      ]
     },
     "execution_count": 3,
     "metadata": {},
     "output_type": "execute_result"
    }
   ],
   "source": [
    "df_Grp_aliment = df.groupby([\"Groupe d'aliment\"]).size().sort_values(ascending=False).reset_index(name='count')   \n",
    "\n",
    "df_Grp_aliment['pourcentage'] = round((df_Grp_aliment['count']/df_Grp_aliment['count'].sum())*100,2)\n",
    "df_Grp_aliment"
   ]
  },
  {
   "cell_type": "code",
   "execution_count": 4,
   "metadata": {},
   "outputs": [
    {
     "data": {
      "image/png": "[encoded data removed]",
      "text/plain": [
       "<Figure size 432x288 with 1 Axes>"
      ]
     },
     "metadata": {
      "needs_background": "light"
     },
     "output_type": "display_data"
    }
   ],
   "source": [
    "sns.barplot(x = \"DQR - Note de qualité de la donnée (1 excellente ; 5 très faible)\",\n",
    "            y = \"Groupe d'aliment\",\n",
    "            data = df)\n",
    " \n",
    "\n",
    "plt.show()"
   ]
  },
  {
   "cell_type": "code",
   "execution_count": 9,
   "metadata": {},
   "outputs": [
    {
     "data": {
      "text/plain": [
       "Groupe d'aliment\n",
       "aides culinaires et ingrédients divers         3.032468\n",
       "aliments infantiles                            2.804545\n",
       "boissons                                       2.981233\n",
       "entrées et plats composés                      2.451779\n",
       "fruits, légumes, légumineuses et oléagineux    2.891040\n",
       "glaces et sorbets                              3.316800\n",
       "lait et produits laitiers                      2.515318\n",
       "matières grasses                               3.189107\n",
       "produits céréaliers                            2.692533\n",
       "produits sucrés                                3.061132\n",
       "viandes, œufs, poissons                        2.897767\n",
       "Name: DQR - Note de qualité de la donnée (1 excellente ; 5 très faible), dtype: float64"
      ]
     },
     "execution_count": 9,
     "metadata": {},
     "output_type": "execute_result"
    }
   ],
   "source": [
    "df.groupby([\"Groupe d'aliment\"])[\"DQR - Note de qualité de la donnée (1 excellente ; 5 très faible)\"].mean()"
   ]
  },
  {
   "cell_type": "code",
   "execution_count": null,
   "metadata": {},
   "outputs": [],
   "source": []
  },
  {
   "cell_type": "code",
   "execution_count": null,
   "metadata": {},
   "outputs": [],
   "source": []
  },
  {
   "cell_type": "code",
   "execution_count": null,
   "metadata": {},
   "outputs": [],
   "source": []
  },
  {
   "cell_type": "code",
   "execution_count": null,
   "metadata": {},
   "outputs": [],
   "source": []
  },
  {
   "cell_type": "code",
   "execution_count": null,
   "metadata": {},
   "outputs": [],
   "source": [
    "                                                                                                                                                                                                    "
   ]
  },
  {
   "cell_type": "code",
   "execution_count": null,
   "metadata": {},
   "outputs": [],
   "source": []
  },
  {
   "cell_type": "code",
   "execution_count": null,
   "metadata": {},
   "outputs": [],
   "source": []
  }
 ],
 "metadata": {
  "kernelspec": {
   "display_name": "Python 3",
   "language": "python",
   "name": "python3"
  },
  "language_info": {
   "codemirror_mode": {
    "name": "ipython",
    "version": 3
   },
   "file_extension": ".py",
   "mimetype": "text/x-python",
   "name": "python",
   "nbconvert_exporter": "python",
   "pygments_lexer": "ipython3",
   "version": "3.8.5"
  }
 },
 "nbformat": 4,
 "nbformat_minor": 4
}
